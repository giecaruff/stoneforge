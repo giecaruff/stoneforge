{
 "cells": [
  {
   "cell_type": "code",
   "execution_count": 2,
   "id": "e3533d5d",
   "metadata": {},
   "outputs": [
    {
     "name": "stderr",
     "output_type": "stream",
     "text": [
      "C:\\Users\\mario\\Documents\\GitHub\\stoneforge\\stoneforge\\io\\tabr.py:61: UserWarning: Skipping line 21: expected 7 fields, got 6\n",
      "  warnings.warn(\n",
      "C:\\Users\\mario\\Documents\\GitHub\\stoneforge\\stoneforge\\io\\tabr.py:61: UserWarning: Skipping line 22: expected 7 fields, got 6\n",
      "  warnings.warn(\n",
      "C:\\Users\\mario\\Documents\\GitHub\\stoneforge\\stoneforge\\io\\tabr.py:61: UserWarning: Skipping line 26: expected 7 fields, got 6\n",
      "  warnings.warn(\n"
     ]
    },
    {
     "data": {
      "text/plain": [
       "{'PROF': {'values': array([   1000,   10003,   10006,   10009,   10012,   10015,   10018,\n",
       "           10021,   10024,   10027,    1003,   10033,   10036,   10039,\n",
       "          100420,   10045,   10048,   10051,   10060,   10063,   10066,\n",
       "           10072,   10075,   10078, 1008100,   10084]),\n",
       "  'unit': 'M',\n",
       "  'description': ''},\n",
       " 'ρB': {'values': array([2.65, 2.66, 2.67, 2.68, 2.69, 2.7 , 2.71, 2.72, 2.73, 2.74, 2.75,\n",
       "         2.76, 2.77, 2.78, 2.79, 2.8 , 2.81, 2.82, 2.85, 2.86, 2.87, 2.89,\n",
       "         2.9 , 2.91, 2.92, 2.93]),\n",
       "  'unit': 'g/cm3',\n",
       "  'description': ''},\n",
       " 'NPHI': {'values': array([ 0.32,  0.33,  0.34,  0.35,  0.36,  0.37,  0.38,  0.39,  0.4 ,\n",
       "          0.41,  0.42,  0.43, 44.  ,  0.45,  0.46,  0.47,  0.48,  0.49,\n",
       "          0.52,  0.53,  0.54,  0.56,  0.57,  0.58,  0.59,  0.6 ]),\n",
       "  'unit': 'v/v',\n",
       "  'description': ''},\n",
       " 'ILD30': {'values': array(['10.000,00', '10.001,05', '10,000.56', '2003', '-999.000',\n",
       "         '-999.000', '-999.000', '-999.000', '-999.000', '-999.000',\n",
       "         '-999.000', '-999.000', '-999.000', '-999.000', '-999.000',\n",
       "         '-999.000', '-999.000', '-999.000', '-999.000', '-999.000',\n",
       "         '-999.000', '-999.000', '-999.000', '-999.000', '-999.000',\n",
       "         '-999.000'], dtype='<U9'),\n",
       "  'unit': 'ohm.m',\n",
       "  'description': ''},\n",
       " 'ILD': {'values': array([   10000,    10001,    10002,    10003,    10004,    10005,\n",
       "            10006,    10007,    10008,    10009,    10010,    10011,\n",
       "          1001200,  1001300,  1001400,  1001500,  1001600,  1001700,\n",
       "         10020000, 10021000, 10022000,    10024,    10025,    10026,\n",
       "            10027,    10028]),\n",
       "  'unit': 'ohm.m',\n",
       "  'description': ''},\n",
       " '42': {'values': array([-999., -999., -999., -999., -999., -999., -999., -999., -999.,\n",
       "         -999., -999., -999.,   nan, -999., -999., -999., -999., -999.,\n",
       "         -999., -999., -999., -999., -999., -999., -999., -999.]),\n",
       "  'unit': 'Ω.m',\n",
       "  'description': ''},\n",
       " '�': {'values': array(['ARENITO', 'ARENITO', 'arenito', 'folhelho', '57', '57', '57',\n",
       "         '57', '57', 'slurry]', 'slurry', 'slurry', 'slurry', 'slurry',\n",
       "         'slurry', 'slurry', '570', '49', '49', '49', '49', 'siltito',\n",
       "         'siltito', 'siltito', 'siltito', 'siltito'], dtype='<U8'),\n",
       "  'unit': '漢字',\n",
       "  'description': ''}}"
      ]
     },
     "execution_count": 2,
     "metadata": {},
     "output_type": "execute_result"
    }
   ],
   "source": [
    "from stoneforge.io.tabr import TABParser\n",
    "\n",
    "path1 = r\"../stoneforge/datasets/teste_tsv.tsv\"\n",
    "tabr_obj1 = TABParser(path1, sep=\"\\t\", std=\"US\")\n",
    "tabr_obj1.data\n"
   ]
  },
  {
   "cell_type": "code",
   "execution_count": 6,
   "id": "5a0a7258",
   "metadata": {},
   "outputs": [
    {
     "name": "stderr",
     "output_type": "stream",
     "text": [
      "C:\\Users\\mario\\Documents\\GitHub\\stoneforge\\stoneforge\\io\\tabr.py:61: UserWarning: Skipping line 3: expected 7 fields, got 8\n",
      "  warnings.warn(\n",
      "C:\\Users\\mario\\Documents\\GitHub\\stoneforge\\stoneforge\\io\\tabr.py:61: UserWarning: Skipping line 4: expected 7 fields, got 9\n",
      "  warnings.warn(\n",
      "C:\\Users\\mario\\Documents\\GitHub\\stoneforge\\stoneforge\\io\\tabr.py:61: UserWarning: Skipping line 5: expected 7 fields, got 9\n",
      "  warnings.warn(\n",
      "C:\\Users\\mario\\Documents\\GitHub\\stoneforge\\stoneforge\\io\\tabr.py:61: UserWarning: Skipping line 6: expected 7 fields, got 9\n",
      "  warnings.warn(\n",
      "C:\\Users\\mario\\Documents\\GitHub\\stoneforge\\stoneforge\\io\\tabr.py:61: UserWarning: Skipping line 7: expected 7 fields, got 8\n",
      "  warnings.warn(\n",
      "C:\\Users\\mario\\Documents\\GitHub\\stoneforge\\stoneforge\\io\\tabr.py:61: UserWarning: Skipping line 8: expected 7 fields, got 8\n",
      "  warnings.warn(\n",
      "C:\\Users\\mario\\Documents\\GitHub\\stoneforge\\stoneforge\\io\\tabr.py:61: UserWarning: Skipping line 9: expected 7 fields, got 8\n",
      "  warnings.warn(\n",
      "C:\\Users\\mario\\Documents\\GitHub\\stoneforge\\stoneforge\\io\\tabr.py:61: UserWarning: Skipping line 10: expected 7 fields, got 8\n",
      "  warnings.warn(\n",
      "C:\\Users\\mario\\Documents\\GitHub\\stoneforge\\stoneforge\\io\\tabr.py:61: UserWarning: Skipping line 11: expected 7 fields, got 8\n",
      "  warnings.warn(\n",
      "C:\\Users\\mario\\Documents\\GitHub\\stoneforge\\stoneforge\\io\\tabr.py:61: UserWarning: Skipping line 12: expected 7 fields, got 8\n",
      "  warnings.warn(\n",
      "C:\\Users\\mario\\Documents\\GitHub\\stoneforge\\stoneforge\\io\\tabr.py:61: UserWarning: Skipping line 14: expected 7 fields, got 8\n",
      "  warnings.warn(\n",
      "C:\\Users\\mario\\Documents\\GitHub\\stoneforge\\stoneforge\\io\\tabr.py:61: UserWarning: Skipping line 15: expected 7 fields, got 10\n",
      "  warnings.warn(\n",
      "C:\\Users\\mario\\Documents\\GitHub\\stoneforge\\stoneforge\\io\\tabr.py:61: UserWarning: Skipping line 16: expected 7 fields, got 9\n",
      "  warnings.warn(\n",
      "C:\\Users\\mario\\Documents\\GitHub\\stoneforge\\stoneforge\\io\\tabr.py:61: UserWarning: Skipping line 17: expected 7 fields, got 9\n",
      "  warnings.warn(\n",
      "C:\\Users\\mario\\Documents\\GitHub\\stoneforge\\stoneforge\\io\\tabr.py:61: UserWarning: Skipping line 18: expected 7 fields, got 9\n",
      "  warnings.warn(\n",
      "C:\\Users\\mario\\Documents\\GitHub\\stoneforge\\stoneforge\\io\\tabr.py:61: UserWarning: Skipping line 19: expected 7 fields, got 8\n",
      "  warnings.warn(\n",
      "C:\\Users\\mario\\Documents\\GitHub\\stoneforge\\stoneforge\\io\\tabr.py:61: UserWarning: Skipping line 21: expected 7 fields, got 9\n",
      "  warnings.warn(\n",
      "C:\\Users\\mario\\Documents\\GitHub\\stoneforge\\stoneforge\\io\\tabr.py:61: UserWarning: Skipping line 22: expected 7 fields, got 9\n",
      "  warnings.warn(\n",
      "C:\\Users\\mario\\Documents\\GitHub\\stoneforge\\stoneforge\\io\\tabr.py:61: UserWarning: Skipping line 23: expected 7 fields, got 9\n",
      "  warnings.warn(\n",
      "C:\\Users\\mario\\Documents\\GitHub\\stoneforge\\stoneforge\\io\\tabr.py:61: UserWarning: Skipping line 24: expected 7 fields, got 9\n",
      "  warnings.warn(\n",
      "C:\\Users\\mario\\Documents\\GitHub\\stoneforge\\stoneforge\\io\\tabr.py:61: UserWarning: Skipping line 25: expected 7 fields, got 9\n",
      "  warnings.warn(\n",
      "C:\\Users\\mario\\Documents\\GitHub\\stoneforge\\stoneforge\\io\\tabr.py:61: UserWarning: Skipping line 26: expected 7 fields, got 8\n",
      "  warnings.warn(\n",
      "C:\\Users\\mario\\Documents\\GitHub\\stoneforge\\stoneforge\\io\\tabr.py:61: UserWarning: Skipping line 27: expected 7 fields, got 8\n",
      "  warnings.warn(\n",
      "C:\\Users\\mario\\Documents\\GitHub\\stoneforge\\stoneforge\\io\\tabr.py:61: UserWarning: Skipping line 28: expected 7 fields, got 8\n",
      "  warnings.warn(\n",
      "C:\\Users\\mario\\Documents\\GitHub\\stoneforge\\stoneforge\\io\\tabr.py:61: UserWarning: Skipping line 29: expected 7 fields, got 8\n",
      "  warnings.warn(\n",
      "C:\\Users\\mario\\Documents\\GitHub\\stoneforge\\stoneforge\\io\\tabr.py:61: UserWarning: Skipping line 30: expected 7 fields, got 8\n",
      "  warnings.warn(\n",
      "C:\\Users\\mario\\Documents\\GitHub\\stoneforge\\stoneforge\\io\\tabr.py:61: UserWarning: Skipping line 31: expected 7 fields, got 8\n",
      "  warnings.warn(\n"
     ]
    },
    {
     "data": {
      "text/plain": [
       "{'PROF': {'values': array([1003, 1005]), 'unit': 'M', 'description': ''},\n",
       " 'ρB': {'values': array([2.75, 1.  ]), 'unit': 'g/cm3', 'description': ''},\n",
       " 'NPHI': {'values': array([0.42, 2.82]), 'unit': 'v/v', 'description': ''},\n",
       " 'ILD30': {'values': array([-9.99e+02,  4.90e-01]),\n",
       "  'unit': 'ohm.m',\n",
       "  'description': ''},\n",
       " 'ILD': {'values': array(['10010', '-999.000   \"10017'], dtype='<U17'),\n",
       "  'unit': 'ohm.m',\n",
       "  'description': ''},\n",
       " '42': {'values': array(['-999', '00\"   -999.000'], dtype='<U14'),\n",
       "  'unit': 'Ω.m',\n",
       "  'description': ''},\n",
       " '�': {'values': array(['slurry', '49'], dtype='<U6'),\n",
       "  'unit': '漢字',\n",
       "  'description': ''}}"
      ]
     },
     "execution_count": 6,
     "metadata": {},
     "output_type": "execute_result"
    }
   ],
   "source": [
    "path2 = r\"../stoneforge/datasets/teste_csv.csv\"\n",
    "tabr_obj2 = TABParser(path2, sep=\",\", std=\"US\")\n",
    "tabr_obj2.data"
   ]
  },
  {
   "cell_type": "code",
   "execution_count": null,
   "id": "592a4d49",
   "metadata": {},
   "outputs": [],
   "source": []
  }
 ],
 "metadata": {
  "kernelspec": {
   "display_name": "stoneforge",
   "language": "python",
   "name": "python3"
  },
  "language_info": {
   "codemirror_mode": {
    "name": "ipython",
    "version": 3
   },
   "file_extension": ".py",
   "mimetype": "text/x-python",
   "name": "python",
   "nbconvert_exporter": "python",
   "pygments_lexer": "ipython3",
   "version": "3.10.0"
  }
 },
 "nbformat": 4,
 "nbformat_minor": 5
}
