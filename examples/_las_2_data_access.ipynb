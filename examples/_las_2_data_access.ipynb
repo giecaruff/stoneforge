{
 "cells": [
  {
   "cell_type": "code",
   "execution_count": 1,
   "id": "e3533d5d",
   "metadata": {},
   "outputs": [
    {
     "data": {
      "text/plain": [
       "<stoneforge.io.las2.LAS2Parser at 0x1f22ab4ae90>"
      ]
     },
     "execution_count": 1,
     "metadata": {},
     "output_type": "execute_result"
    }
   ],
   "source": [
    "from stoneforge.io.las2 import LAS2Parser\n",
    "import pandas as pd\n",
    "\n",
    "las2_obj = LAS2Parser(r\"../stoneforge/datasets/ES1.las\")\n",
    "las2_obj"
   ]
  },
  {
   "cell_type": "code",
   "execution_count": 2,
   "id": "837a0e7d",
   "metadata": {},
   "outputs": [
    {
     "data": {
      "text/html": [
       "<div>\n",
       "<style scoped>\n",
       "    .dataframe tbody tr th:only-of-type {\n",
       "        vertical-align: middle;\n",
       "    }\n",
       "\n",
       "    .dataframe tbody tr th {\n",
       "        vertical-align: top;\n",
       "    }\n",
       "\n",
       "    .dataframe thead th {\n",
       "        text-align: right;\n",
       "    }\n",
       "</style>\n",
       "<table border=\"1\" class=\"dataframe\">\n",
       "  <thead>\n",
       "    <tr style=\"text-align: right;\">\n",
       "      <th></th>\n",
       "      <th>mnemonic</th>\n",
       "      <th>unit</th>\n",
       "      <th>value</th>\n",
       "      <th>description</th>\n",
       "    </tr>\n",
       "  </thead>\n",
       "  <tbody>\n",
       "    <tr>\n",
       "      <th>0</th>\n",
       "      <td>VERS</td>\n",
       "      <td></td>\n",
       "      <td>2.00</td>\n",
       "      <td>CWLS LOG ASCII STANDARD - VERSION 2.00</td>\n",
       "    </tr>\n",
       "    <tr>\n",
       "      <th>1</th>\n",
       "      <td>WRAP</td>\n",
       "      <td></td>\n",
       "      <td>NO</td>\n",
       "      <td>ONE LINE PER DEPTH STEP</td>\n",
       "    </tr>\n",
       "  </tbody>\n",
       "</table>\n",
       "</div>"
      ],
      "text/plain": [
       "  mnemonic unit value                             description\n",
       "0     VERS       2.00  CWLS LOG ASCII STANDARD - VERSION 2.00\n",
       "1     WRAP         NO                 ONE LINE PER DEPTH STEP"
      ]
     },
     "execution_count": 2,
     "metadata": {},
     "output_type": "execute_result"
    }
   ],
   "source": [
    "las2_obj.header['version']"
   ]
  },
  {
   "cell_type": "code",
   "execution_count": 3,
   "id": "c07c8cbd",
   "metadata": {},
   "outputs": [
    {
     "data": {
      "text/plain": [
       "{'DEPT': {'values': array([  92. ,   92.5,   93. , ..., 7738. , 7738.5, 7739. ],\n",
       "        shape=(15295,)),\n",
       "  'unit': 'F',\n",
       "  'description': '1  DEPTH'},\n",
       " 'SP': {'values': array([ -30.3926,  -30.221 ,  -29.8822, ..., -999.    , -999.    ,\n",
       "         -999.    ], shape=(15295,)),\n",
       "  'unit': 'MV',\n",
       "  'description': '2'},\n",
       " 'ILD': {'values': array([   3.0692,    5.0267,    2.8043, ..., -999.    , -999.    ,\n",
       "         -999.    ], shape=(15295,)),\n",
       "  'unit': 'OHMM',\n",
       "  'description': '3'},\n",
       " 'ILM': {'values': array([ 8.2660e-01,  1.0292e+00,  1.6126e+00, ..., -9.9900e+02,\n",
       "         -9.9900e+02, -9.9900e+02], shape=(15295,)),\n",
       "  'unit': 'OHMM',\n",
       "  'description': '4'},\n",
       " 'LL8': {'values': array([   2.8159,    4.0912,    5.9442, ..., -999.    , -999.    ,\n",
       "         -999.    ], shape=(15295,)),\n",
       "  'unit': 'OHMM',\n",
       "  'description': '5'},\n",
       " 'CALI': {'values': array([-999., -999., -999., ..., -999., -999., -999.], shape=(15295,)),\n",
       "  'unit': 'IN',\n",
       "  'description': '6'},\n",
       " 'GR': {'values': array([-999.    , -999.    , -999.    , ...,   88.8622, -999.    ,\n",
       "         -999.    ], shape=(15295,)),\n",
       "  'unit': 'GAPI',\n",
       "  'description': '7'},\n",
       " 'DRHO': {'values': array([-9.99e+02, -9.99e+02, -9.99e+02, ...,  1.09e-02, -9.99e+02,\n",
       "         -9.99e+02], shape=(15295,)),\n",
       "  'unit': 'G/C3',\n",
       "  'description': '8'},\n",
       " 'RHOB': {'values': array([-999.    , -999.    , -999.    , ...,    2.6149, -999.    ,\n",
       "         -999.    ], shape=(15295,)),\n",
       "  'unit': 'G/C3',\n",
       "  'description': '9'},\n",
       " 'NPHI': {'values': array([-999.    , -999.    , -999.    , ...,   26.5081, -999.    ,\n",
       "         -999.    ], shape=(15295,)),\n",
       "  'unit': '%',\n",
       "  'description': '10'},\n",
       " 'DT': {'values': array([-999., -999., -999., ..., -999., -999., -999.], shape=(15295,)),\n",
       "  'unit': 'US/F',\n",
       "  'description': '11'}}"
      ]
     },
     "execution_count": 3,
     "metadata": {},
     "output_type": "execute_result"
    }
   ],
   "source": [
    "las2_obj.data"
   ]
  },
  {
   "cell_type": "code",
   "execution_count": null,
   "id": "94ed6ee7",
   "metadata": {},
   "outputs": [],
   "source": []
  }
 ],
 "metadata": {
  "kernelspec": {
   "display_name": "stoneforge",
   "language": "python",
   "name": "python3"
  },
  "language_info": {
   "codemirror_mode": {
    "name": "ipython",
    "version": 3
   },
   "file_extension": ".py",
   "mimetype": "text/x-python",
   "name": "python",
   "nbconvert_exporter": "python",
   "pygments_lexer": "ipython3",
   "version": "3.10.0"
  }
 },
 "nbformat": 4,
 "nbformat_minor": 5
}
