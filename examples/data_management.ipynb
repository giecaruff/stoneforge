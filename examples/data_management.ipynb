{
 "cells": [
  {
   "cell_type": "code",
   "execution_count": 1,
   "id": "9c06f557",
   "metadata": {},
   "outputs": [
    {
     "name": "stdout",
     "output_type": "stream",
     "text": [
      "VERSION INFORMATION\n",
      "Well Information\n",
      "Log_Parameter\n",
      "Log_Definition\n",
      "Drilling_Definition\n",
      "Drilling_Data | Drilling_Definition\n",
      "Core_Definition\n",
      "Core_Data[1] | Core_Definition\n",
      "Core_Data[2] | Core_Definition\n",
      "Inclinometry_Definition\n",
      "Inclinometry_Data | Inclinometry_Definition\n",
      "Test_Definition\n",
      "Test_Data | Test_Definition\n",
      "TOPS_Definition\n",
      "TOPS_Data | TOPS_Definition\n",
      "Perforations_Definition\n",
      "Perforations_Data | Perforations_Definition\n",
      "Log_Data | Log_Definition\n"
     ]
    }
   ],
   "source": [
    "from stoneforge.io.lasparser import parse_las_file\n",
    "\n",
    "las3_manager = parse_las_file(\"../stoneforge/datasets/example_las3.las\")\n",
    "\n",
    "for key, value in las3_manager.items():\n",
    "    print(key)"
   ]
  },
  {
   "cell_type": "code",
   "execution_count": 15,
   "id": "ffc36ffe",
   "metadata": {},
   "outputs": [
    {
     "name": "stdout",
     "output_type": "stream",
     "text": [
      "{'RAB_shallow': {'B77185': {'TDEP': {'unit': 'm', 'dim': '1', 'min': np.float32(-3.26136), 'max': np.float32(358.5361), 'long_name': None}, 'BSIM': {'unit': 'ohm.m', 'dim': '2', 'min': np.float32(0.2657987), 'max': np.float32(57.893593), 'long_name': 'Shallow Button Resistivity Image'}, 'BSAV': {'unit': 'ohm.m', 'dim': '1', 'min': np.float32(0.32535496), 'max': np.float32(14.002237), 'long_name': 'Average Shallow Button Resistivity'}}, 'B77226': {'TDEP': {'unit': '0.1 in', 'dim': '1', 'min': np.float32(-960.0), 'max': np.float32(141120.0), 'long_name': None}, 'DEVI': {'unit': 'deg', 'dim': '1', 'min': np.float32(-639.25), 'max': np.float32(1.4099677), 'long_name': 'Hole Deviation'}, 'HAZI': {'unit': 'deg', 'dim': '1', 'min': np.float32(-639.25), 'max': np.float32(132.75981), 'long_name': 'Hole Azimuth'}, 'RB': {'unit': 'deg', 'dim': '1', 'min': np.float32(-639.25), 'max': np.float32(114.913025), 'long_name': 'Relative Bearing'}, 'P1NO': {'unit': 'deg', 'dim': '1', 'min': np.float32(-639.25), 'max': np.float32(243.84966), 'long_name': 'Pad 1 Rotation Relative to North Azimuth'}, 'P1AZ': {'unit': 'deg', 'dim': '1', 'min': np.float32(-639.25), 'max': np.float32(243.84967), 'long_name': 'Pad 1 Azimuth'}, 'GR': {'unit': 'gAPI', 'dim': '1', 'min': np.float32(21.289118), 'max': np.float32(148.92159), 'long_name': 'Gamma Ray'}}}, 'RAB_medium': {'B77185': {'TDEP': {'unit': 'm', 'dim': '1', 'min': np.float32(-3.26136), 'max': np.float32(358.5361), 'long_name': None}, 'BMIM': {'unit': 'ohm.m', 'dim': '2', 'min': np.float32(0.2492632), 'max': np.float32(181.56433), 'long_name': 'Medium Button Resistivity Image'}, 'BMAV': {'unit': 'ohm.m', 'dim': '1', 'min': np.float32(0.3900483), 'max': np.float32(14.507997), 'long_name': 'Average Medium Button Resistivity'}}, 'B77226': {'TDEP': {'unit': '0.1 in', 'dim': '1', 'min': np.float32(-960.0), 'max': np.float32(141120.0), 'long_name': None}, 'DEVI': {'unit': 'deg', 'dim': '1', 'min': np.float32(-639.25), 'max': np.float32(1.4099677), 'long_name': 'Hole Deviation'}, 'HAZI': {'unit': 'deg', 'dim': '1', 'min': np.float32(-639.25), 'max': np.float32(132.75981), 'long_name': 'Hole Azimuth'}, 'RB': {'unit': 'deg', 'dim': '1', 'min': np.float32(-639.25), 'max': np.float32(114.913025), 'long_name': 'Relative Bearing'}, 'P1NO': {'unit': 'deg', 'dim': '1', 'min': np.float32(-639.25), 'max': np.float32(243.84966), 'long_name': 'Pad 1 Rotation Relative to North Azimuth'}, 'P1AZ': {'unit': 'deg', 'dim': '1', 'min': np.float32(-639.25), 'max': np.float32(243.84967), 'long_name': 'Pad 1 Azimuth'}, 'GR': {'unit': 'gAPI', 'dim': '1', 'min': np.float32(21.289118), 'max': np.float32(148.92159), 'long_name': 'Gamma Ray'}}}, 'RAB_deep': {'B77185': {'TDEP': {'unit': 'm', 'dim': '1', 'min': np.float32(-3.26136), 'max': np.float32(358.5361), 'long_name': None}, 'BDIM': {'unit': 'ohm.m', 'dim': '2', 'min': np.float32(0.19135348), 'max': np.float32(598.57306), 'long_name': 'Deep Button Resistivity Image'}, 'BDAV': {'unit': 'ohm.m', 'dim': '1', 'min': np.float32(0.49525103), 'max': np.float32(14.204177), 'long_name': 'Average Deep Button Resistivity'}}, 'B77226': {'TDEP': {'unit': '0.1 in', 'dim': '1', 'min': np.float32(-960.0), 'max': np.float32(141120.0), 'long_name': None}, 'DEVI': {'unit': 'deg', 'dim': '1', 'min': np.float32(-639.25), 'max': np.float32(1.4099677), 'long_name': 'Hole Deviation'}, 'HAZI': {'unit': 'deg', 'dim': '1', 'min': np.float32(-639.25), 'max': np.float32(132.75981), 'long_name': 'Hole Azimuth'}, 'RB': {'unit': 'deg', 'dim': '1', 'min': np.float32(-639.25), 'max': np.float32(114.913025), 'long_name': 'Relative Bearing'}, 'P1NO': {'unit': 'deg', 'dim': '1', 'min': np.float32(-639.25), 'max': np.float32(243.84966), 'long_name': 'Pad 1 Rotation Relative to North Azimuth'}, 'P1AZ': {'unit': 'deg', 'dim': '1', 'min': np.float32(-639.25), 'max': np.float32(243.84967), 'long_name': 'Pad 1 Azimuth'}, 'GR': {'unit': 'gAPI', 'dim': '1', 'min': np.float32(21.289118), 'max': np.float32(148.92159), 'long_name': 'Gamma Ray'}}}}\n"
     ]
    }
   ],
   "source": [
    "from stoneforge.io.dlisio_r import DLISAccess\n",
    "\n",
    "dlis_manager = DLISAccess(r\"C:\\Users\\mario\\Desktop\\br_dlis\\IODP_311-U1325A_rab-proc.dlis\", vis=False)\n",
    "#dlis_manager.csv_save(dlis_manager.dlis_dict_headers, output_dir=\"C:\\\\Users\\\\mario\\\\Documents\\\\test\")\n",
    "print(dlis_manager.dlis_dict_headers)"
   ]
  },
  {
   "cell_type": "code",
   "execution_count": 12,
   "id": "efd8db65",
   "metadata": {},
   "outputs": [
    {
     "ename": "AttributeError",
     "evalue": "'NoneType' object has no attribute 'groupby'",
     "output_type": "error",
     "traceback": [
      "\u001b[1;31m---------------------------------------------------------------------------\u001b[0m",
      "\u001b[1;31mAttributeError\u001b[0m                            Traceback (most recent call last)",
      "Cell \u001b[1;32mIn[12], line 6\u001b[0m\n\u001b[0;32m      4\u001b[0m dlis_manager \u001b[38;5;241m=\u001b[39m DLISAccess(\u001b[38;5;124mr\u001b[39m\u001b[38;5;124m\"\u001b[39m\u001b[38;5;124mC:\u001b[39m\u001b[38;5;124m\\\u001b[39m\u001b[38;5;124mUsers\u001b[39m\u001b[38;5;124m\\\u001b[39m\u001b[38;5;124mmario\u001b[39m\u001b[38;5;124m\\\u001b[39m\u001b[38;5;124mDesktop\u001b[39m\u001b[38;5;124m\\\u001b[39m\u001b[38;5;124mbr_dlis\u001b[39m\u001b[38;5;124m\\\u001b[39m\u001b[38;5;124mIODP_311-U1325A_lwd-images-proc.dlis\u001b[39m\u001b[38;5;124m\"\u001b[39m, vis\u001b[38;5;241m=\u001b[39m\u001b[38;5;28;01mFalse\u001b[39;00m)\n\u001b[0;32m      5\u001b[0m \u001b[38;5;66;03m#c = dlis_manager.get_header([0, 8, 3, 9, 19, 23, 26, 31, 32, 42])\u001b[39;00m\n\u001b[1;32m----> 6\u001b[0m data \u001b[38;5;241m=\u001b[39m \u001b[43mdlis_manager\u001b[49m\u001b[38;5;241;43m.\u001b[39;49m\u001b[43mreturn_data\u001b[49m\u001b[43m(\u001b[49m\u001b[43m)\u001b[49m\n",
      "File \u001b[1;32m~\\Documents\\GitHub\\stoneforge\\stoneforge\\io\\dlisio_r.py:36\u001b[0m, in \u001b[0;36mDLISAccess.return_data\u001b[1;34m(self)\u001b[0m\n\u001b[0;32m     35\u001b[0m \u001b[38;5;28;01mdef\u001b[39;00m\u001b[38;5;250m \u001b[39m\u001b[38;5;21mreturn_data\u001b[39m(\u001b[38;5;28mself\u001b[39m):\n\u001b[1;32m---> 36\u001b[0m     idx_dict_header \u001b[38;5;241m=\u001b[39m \u001b[38;5;28;43mself\u001b[39;49m\u001b[38;5;241;43m.\u001b[39;49m\u001b[43m_dataframe_to_dict\u001b[49m\u001b[43m(\u001b[49m\u001b[38;5;28;43mself\u001b[39;49m\u001b[38;5;241;43m.\u001b[39;49m\u001b[43mselected_header_df\u001b[49m\u001b[43m)\u001b[49m\n\u001b[0;32m     37\u001b[0m     \u001b[38;5;28;01mreturn\u001b[39;00m \u001b[38;5;28mself\u001b[39m\u001b[38;5;241m.\u001b[39m_parse_dlis(\u001b[38;5;28mself\u001b[39m\u001b[38;5;241m.\u001b[39mfilename, idx_dict_header)\n",
      "File \u001b[1;32m~\\Documents\\GitHub\\stoneforge\\stoneforge\\io\\dlisio_r.py:93\u001b[0m, in \u001b[0;36mDLISAccess._dataframe_to_dict\u001b[1;34m(self, df)\u001b[0m\n\u001b[0;32m     91\u001b[0m \u001b[38;5;28;01mdef\u001b[39;00m\u001b[38;5;250m \u001b[39m\u001b[38;5;21m_dataframe_to_dict\u001b[39m(\u001b[38;5;28mself\u001b[39m, df):\n\u001b[0;32m     92\u001b[0m     data \u001b[38;5;241m=\u001b[39m {}\n\u001b[1;32m---> 93\u001b[0m     \u001b[38;5;28;01mfor\u001b[39;00m digital_file, frame_group \u001b[38;5;129;01min\u001b[39;00m \u001b[43mdf\u001b[49m\u001b[38;5;241;43m.\u001b[39;49m\u001b[43mgroupby\u001b[49m(\u001b[38;5;124m\"\u001b[39m\u001b[38;5;124mDigital File\u001b[39m\u001b[38;5;124m\"\u001b[39m):\n\u001b[0;32m     94\u001b[0m         data[digital_file] \u001b[38;5;241m=\u001b[39m {}\n\u001b[0;32m     95\u001b[0m         \u001b[38;5;28;01mfor\u001b[39;00m frame_name, mnemonics_group \u001b[38;5;129;01min\u001b[39;00m frame_group\u001b[38;5;241m.\u001b[39mgroupby(\u001b[38;5;124m\"\u001b[39m\u001b[38;5;124mFrame Name\u001b[39m\u001b[38;5;124m\"\u001b[39m):\n",
      "\u001b[1;31mAttributeError\u001b[0m: 'NoneType' object has no attribute 'groupby'"
     ]
    }
   ],
   "source": [
    "from stoneforge.io.dlisio_r import DLISAccess\n",
    "\n",
    "#dlis_manager = DLISAccess(\"../stoneforge/datasets/DSDP_leg_96_hole_616_96_processed_data.dlis\", vis=False)\n",
    "dlis_manager = DLISAccess(r\"C:\\Users\\mario\\Desktop\\br_dlis\\IODP_311-U1325A_lwd-images-proc.dlis\", vis=False)\n",
    "#c = dlis_manager.get_header([0, 8, 3, 9, 19, 23, 26, 31, 32, 42])\n",
    "data = dlis_manager.return_data()\n"
   ]
  },
  {
   "cell_type": "code",
   "execution_count": 4,
   "id": "2ab21ab8",
   "metadata": {},
   "outputs": [
    {
     "data": {
      "text/plain": [
       "{'FDC/CNL/GR_main': {'B59067': {'TDEP': {'unit': 'm',\n",
       "    'values': array([372.4656   , 372.3132   , 372.1608   , ...,  -4.1146564,\n",
       "            -4.2670565,  -4.4194565], shape=(2474,), dtype=float32)},\n",
       "   'RHOB': {'unit': 'g/cm3',\n",
       "    'values': array([2.0898438, 2.0898438, 2.0898438, ..., 1.1201172, 1.1132812,\n",
       "           1.109375 ], shape=(2474,), dtype=float32)},\n",
       "   'GR': {'unit': 'gAPI',\n",
       "    'values': array([133.25     , 133.25     , 133.25     , ...,   3.765625 ,\n",
       "             3.7519531,   3.7539062], shape=(2474,), dtype=float32)},\n",
       "   'CALI': {'unit': 'in',\n",
       "    'values': array([7.8555613, 7.8555613, 7.8555613, ..., 7.898622 , 7.9232283,\n",
       "           7.898622 ], shape=(2474,), dtype=float32)},\n",
       "   'NPHI': {'unit': '%',\n",
       "    'values': array([ 61.279297,  61.279297,  61.279297, ...,  96.728516, 106.640625,\n",
       "            99.31641 ], shape=(2474,), dtype=float32)}}},\n",
       " 'FDC/CNL/GR_repeat': {'B59180': {'TDEP': {'unit': 'm',\n",
       "    'values': array([264.2616   , 264.1092   , 263.9568   , ...,  -6.5531425,\n",
       "            -6.7055426,  -6.8579426], shape=(1780,), dtype=float32)},\n",
       "   'RHOB': {'unit': 'g/cm3',\n",
       "    'values': array([1.9287109, 1.9287109, 1.9287109, ..., 1.1601562, 1.1777344,\n",
       "           1.1484375], shape=(1780,), dtype=float32)},\n",
       "   'GR': {'unit': 'gAPI',\n",
       "    'values': array([32.53125  , 32.53125  , 32.53125  , ...,  5.3007812,  6.4492188,\n",
       "            7.5976562], shape=(1780,), dtype=float32)},\n",
       "   'CALI': {'unit': 'in',\n",
       "    'values': array([7.867864 , 7.867864 , 7.867864 , ..., 7.898622 , 7.9047737,\n",
       "           7.9109254], shape=(1780,), dtype=float32)},\n",
       "   'NPHI': {'unit': '%',\n",
       "    'values': array([ 56.591797,  56.591797,  56.591797, ..., 101.26953 ,  99.90234 ,\n",
       "            96.58203 ], shape=(1780,), dtype=float32)}}}}"
      ]
     },
     "execution_count": 4,
     "metadata": {},
     "output_type": "execute_result"
    }
   ],
   "source": [
    "data"
   ]
  },
  {
   "cell_type": "code",
   "execution_count": null,
   "id": "1e78b41c",
   "metadata": {},
   "outputs": [],
   "source": [
    "import os\n",
    "import pandas as pd\n",
    "\n",
    "def _sanitize_filename(name: str) -> str:\n",
    "    \"\"\"Replace unsafe filename characters (like / and \\) with underscores.\"\"\"\n",
    "    return name.replace(\"/\", \"_\").replace(\"\\\\\", \"_\")\n",
    "\n",
    "def csv_save(data: dict, output_dir: str = \".\"):\n",
    "    \"\"\"\n",
    "    Save DLIS-like data structure to CSVs, organized by digital file and frame.\n",
    "\n",
    "    Parameters\n",
    "    ----------\n",
    "    data : dict\n",
    "        Nested dictionary structured as {frame_name: {digital_file: {mnemonic: {unit, values}}}}.\n",
    "    output_dir : str\n",
    "        Base directory where the output folders and files will be created.\n",
    "    \"\"\"\n",
    "    for frame_name, digital_files in data.items():\n",
    "        sanitized_frame_name = _sanitize_filename(frame_name)\n",
    "\n",
    "        for digital_file, mnemonics in digital_files.items():\n",
    "            # Create directory for the digital file\n",
    "            digital_file_path = os.path.join(output_dir, digital_file)\n",
    "            os.makedirs(digital_file_path, exist_ok=True)\n",
    "\n",
    "            # Prepare data and units\n",
    "            df_data = {}\n",
    "            units = {}\n",
    "\n",
    "            for mnemonic, content in mnemonics.items():\n",
    "                df_data[mnemonic] = content[\"values\"]\n",
    "                units[mnemonic] = content[\"unit\"]\n",
    "\n",
    "            # Create DataFrame\n",
    "            df = pd.DataFrame(df_data)\n",
    "\n",
    "            # Insert units as second row\n",
    "            units_row = pd.DataFrame([units])\n",
    "            df_with_units = pd.concat([units_row, df], ignore_index=True)\n",
    "\n",
    "            # Save CSV with sanitized frame name\n",
    "            csv_path = os.path.join(digital_file_path, f\"{sanitized_frame_name}.csv\")\n",
    "            df_with_units.to_csv(csv_path, index=False)"
   ]
  },
  {
   "cell_type": "code",
   "execution_count": 5,
   "id": "3b336ffd",
   "metadata": {},
   "outputs": [],
   "source": [
    "dlis_manager.csv_save(data, output_dir=\"C:\\\\Users\\\\mario\\\\Documents\\\\test\")"
   ]
  },
  {
   "cell_type": "code",
   "execution_count": null,
   "id": "1447785b",
   "metadata": {},
   "outputs": [],
   "source": []
  }
 ],
 "metadata": {
  "kernelspec": {
   "display_name": "stoneforge",
   "language": "python",
   "name": "python3"
  },
  "language_info": {
   "codemirror_mode": {
    "name": "ipython",
    "version": 3
   },
   "file_extension": ".py",
   "mimetype": "text/x-python",
   "name": "python",
   "nbconvert_exporter": "python",
   "pygments_lexer": "ipython3",
   "version": "3.10.2"
  }
 },
 "nbformat": 4,
 "nbformat_minor": 5
}
