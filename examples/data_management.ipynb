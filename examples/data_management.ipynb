{
 "cells": [
  {
   "cell_type": "code",
   "execution_count": null,
   "id": "9c06f557",
   "metadata": {},
   "outputs": [
    {
     "name": "stdout",
     "output_type": "stream",
     "text": [
      "VERSION INFORMATION\n",
      "Well Information\n",
      "Log_Parameter\n",
      "Log_Definition\n",
      "Drilling_Definition\n",
      "Drilling_Data | Drilling_Definition\n",
      "Core_Definition\n",
      "Core_Data[1] | Core_Definition\n",
      "Core_Data[2] | Core_Definition\n",
      "Inclinometry_Definition\n",
      "Inclinometry_Data | Inclinometry_Definition\n",
      "Test_Definition\n",
      "Test_Data | Test_Definition\n",
      "TOPS_Definition\n",
      "TOPS_Data | TOPS_Definition\n",
      "Perforations_Definition\n",
      "Perforations_Data | Perforations_Definition\n",
      "Log_Data | Log_Definition\n"
     ]
    }
   ],
   "source": [
    "from stoneforge.io.lasparser import parse_las_file\n",
    "from dlisio import dlis\n",
    "import numpy as np"
   ]
  },
  {
   "cell_type": "code",
   "execution_count": null,
   "id": "acee48d5",
   "metadata": {},
   "outputs": [],
   "source": [
    "\n",
    "\n",
    "las3_manager = parse_las_file(\"../stoneforge/datasets/example_las3.las\")\n",
    "\n",
    "for key, value in las3_manager.items():\n",
    "    print(key)"
   ]
  },
  {
   "cell_type": "code",
   "execution_count": 9,
   "id": "d88e36d9",
   "metadata": {},
   "outputs": [],
   "source": [
    "def clip_dfheader(header_df, idx = None):\n",
    "    \"\"\"get header data from DLIS file in dataframe format.\"\"\"\n",
    "    if header_df is not None:\n",
    "        if idx is not None:\n",
    "            return header_df.iloc[sorted(idx)]\n",
    "        else:\n",
    "            return header_df\n",
    "    else:\n",
    "        raise ValueError(\"Header data is not available.\")"
   ]
  },
  {
   "cell_type": "code",
   "execution_count": 10,
   "id": "6ecfafb3",
   "metadata": {},
   "outputs": [],
   "source": [
    "def _dataframe_to_dict(df):\n",
    "    data = {}\n",
    "    for digital_file, frame_group in df.groupby(\"Digital File\"):\n",
    "        data[digital_file] = {}\n",
    "        for frame_name, mnemonics_group in frame_group.groupby(\"Frame Name\"):\n",
    "            data[digital_file][frame_name] = mnemonics_group[\"Mnemonics\"].tolist()\n",
    "    return data"
   ]
  },
  {
   "cell_type": "code",
   "execution_count": 11,
   "id": "7792e5c1",
   "metadata": {},
   "outputs": [],
   "source": [
    "from dlisio import dlis\n",
    "import numpy as np\n",
    "\n",
    "def _parse_dlis(file_path, data_access):\n",
    "    extracted_data = {}\n",
    "\n",
    "    with dlis.load(file_path) as files:\n",
    "        for f in files:\n",
    "            logical_file_id = str(f)[12:-1]  # Unique identifier for each logical file\n",
    "            \n",
    "            if logical_file_id not in data_access:\n",
    "                continue  # Skip if the logical file is not in the selection\n",
    "\n",
    "            extracted_data[logical_file_id] = {}\n",
    "\n",
    "            simple_frames = {frame.name: frame for frame in f.frames}\n",
    "\n",
    "            for frame_name, mnemonics in data_access[logical_file_id].items():\n",
    "                if frame_name not in simple_frames:\n",
    "                    continue  # Skip if the frame is not found\n",
    "\n",
    "                frame = simple_frames[frame_name]\n",
    "                extracted_data[logical_file_id][frame_name] = {}\n",
    "\n",
    "                for channel in frame.channels:\n",
    "                    if channel.name in mnemonics:\n",
    "                        mnemonic = channel.name\n",
    "                        unit = channel.units\n",
    "                        values = np.array(channel.curves())  # Convert to numpy array\n",
    "\n",
    "                        extracted_data[logical_file_id][frame_name][mnemonic] = {\n",
    "                            'unit': unit,\n",
    "                            'values': values\n",
    "                        }\n",
    "\n",
    "    return extracted_data"
   ]
  },
  {
   "cell_type": "code",
   "execution_count": 12,
   "id": "acadcaee",
   "metadata": {},
   "outputs": [],
   "source": [
    "import os\n",
    "import pandas as pd \n",
    "\n",
    "def _sanitize_filename(name: str) -> str:\n",
    "    \"\"\"Replace unsafe filename characters (like / and \\) with underscores.\"\"\"\n",
    "    return name.replace(\"/\", \"_\").replace(\"\\\\\", \"_\")\n",
    "\n",
    "def csv_save(data: dict, output_dir: str = \".\"):\n",
    "    \"\"\"\n",
    "    Save DLIS-like data structure to CSVs, organized by digital file and frame.\n",
    "\n",
    "    Parameters\n",
    "    ----------\n",
    "    data : dict\n",
    "        Nested dictionary structured as {frame_name: {digital_file: {mnemonic: {unit, values}}}}.\n",
    "    output_dir : str\n",
    "        Base directory where the output folders and files will be created.\n",
    "    \"\"\"\n",
    "    for frame_name, digital_files in data.items():\n",
    "        sanitized_frame_name = _sanitize_filename(frame_name)\n",
    "\n",
    "        for digital_file, mnemonics in digital_files.items():\n",
    "            # Create directory for the digital file\n",
    "            digital_file_path = os.path.join(output_dir, digital_file)\n",
    "            os.makedirs(digital_file_path, exist_ok=True)\n",
    "\n",
    "            # Prepare data and units\n",
    "            df_data = {}\n",
    "            units = {}\n",
    "\n",
    "            for mnemonic, content in mnemonics.items():\n",
    "                df_data[mnemonic] = content[\"values\"]\n",
    "                units[mnemonic] = content[\"unit\"]\n",
    "\n",
    "            # Create DataFrame\n",
    "            df = pd.DataFrame(df_data)\n",
    "\n",
    "            # Insert units as second row\n",
    "            units_row = pd.DataFrame([units])\n",
    "            df_with_units = pd.concat([units_row, df], ignore_index=True)\n",
    "\n",
    "            # Save CSV with sanitized frame name\n",
    "            csv_path = os.path.join(digital_file_path, f\"{sanitized_frame_name}.csv\")\n",
    "            df_with_units.to_csv(csv_path, index=False)"
   ]
  },
  {
   "cell_type": "code",
   "execution_count": null,
   "id": "b16f84e8",
   "metadata": {},
   "outputs": [],
   "source": []
  },
  {
   "cell_type": "code",
   "execution_count": 13,
   "id": "ffc36ffe",
   "metadata": {},
   "outputs": [
    {
     "name": "stdout",
     "output_type": "stream",
     "text": [
      "{'RAB_shallow': {'B77185': {'TDEP': {'unit': 'm', 'dim': '1', 'min': np.float32(-3.26136), 'max': np.float32(358.5361), 'long_name': None}, 'BSIM': {'unit': 'ohm.m', 'dim': '2', 'min': np.float32(0.2657987), 'max': np.float32(57.893593), 'long_name': 'Shallow Button Resistivity Image'}, 'BSAV': {'unit': 'ohm.m', 'dim': '1', 'min': np.float32(0.32535496), 'max': np.float32(14.002237), 'long_name': 'Average Shallow Button Resistivity'}}, 'B77226': {'TDEP': {'unit': '0.1 in', 'dim': '1', 'min': np.float32(-960.0), 'max': np.float32(141120.0), 'long_name': None}, 'DEVI': {'unit': 'deg', 'dim': '1', 'min': np.float32(-639.25), 'max': np.float32(1.4099677), 'long_name': 'Hole Deviation'}, 'HAZI': {'unit': 'deg', 'dim': '1', 'min': np.float32(-639.25), 'max': np.float32(132.75981), 'long_name': 'Hole Azimuth'}, 'RB': {'unit': 'deg', 'dim': '1', 'min': np.float32(-639.25), 'max': np.float32(114.913025), 'long_name': 'Relative Bearing'}, 'P1NO': {'unit': 'deg', 'dim': '1', 'min': np.float32(-639.25), 'max': np.float32(243.84966), 'long_name': 'Pad 1 Rotation Relative to North Azimuth'}, 'P1AZ': {'unit': 'deg', 'dim': '1', 'min': np.float32(-639.25), 'max': np.float32(243.84967), 'long_name': 'Pad 1 Azimuth'}, 'GR': {'unit': 'gAPI', 'dim': '1', 'min': np.float32(21.289118), 'max': np.float32(148.92159), 'long_name': 'Gamma Ray'}}}, 'RAB_medium': {'B77185': {'TDEP': {'unit': 'm', 'dim': '1', 'min': np.float32(-3.26136), 'max': np.float32(358.5361), 'long_name': None}, 'BMIM': {'unit': 'ohm.m', 'dim': '2', 'min': np.float32(0.2492632), 'max': np.float32(181.56433), 'long_name': 'Medium Button Resistivity Image'}, 'BMAV': {'unit': 'ohm.m', 'dim': '1', 'min': np.float32(0.3900483), 'max': np.float32(14.507997), 'long_name': 'Average Medium Button Resistivity'}}, 'B77226': {'TDEP': {'unit': '0.1 in', 'dim': '1', 'min': np.float32(-960.0), 'max': np.float32(141120.0), 'long_name': None}, 'DEVI': {'unit': 'deg', 'dim': '1', 'min': np.float32(-639.25), 'max': np.float32(1.4099677), 'long_name': 'Hole Deviation'}, 'HAZI': {'unit': 'deg', 'dim': '1', 'min': np.float32(-639.25), 'max': np.float32(132.75981), 'long_name': 'Hole Azimuth'}, 'RB': {'unit': 'deg', 'dim': '1', 'min': np.float32(-639.25), 'max': np.float32(114.913025), 'long_name': 'Relative Bearing'}, 'P1NO': {'unit': 'deg', 'dim': '1', 'min': np.float32(-639.25), 'max': np.float32(243.84966), 'long_name': 'Pad 1 Rotation Relative to North Azimuth'}, 'P1AZ': {'unit': 'deg', 'dim': '1', 'min': np.float32(-639.25), 'max': np.float32(243.84967), 'long_name': 'Pad 1 Azimuth'}, 'GR': {'unit': 'gAPI', 'dim': '1', 'min': np.float32(21.289118), 'max': np.float32(148.92159), 'long_name': 'Gamma Ray'}}}, 'RAB_deep': {'B77185': {'TDEP': {'unit': 'm', 'dim': '1', 'min': np.float32(-3.26136), 'max': np.float32(358.5361), 'long_name': None}, 'BDIM': {'unit': 'ohm.m', 'dim': '2', 'min': np.float32(0.19135348), 'max': np.float32(598.57306), 'long_name': 'Deep Button Resistivity Image'}, 'BDAV': {'unit': 'ohm.m', 'dim': '1', 'min': np.float32(0.49525103), 'max': np.float32(14.204177), 'long_name': 'Average Deep Button Resistivity'}}, 'B77226': {'TDEP': {'unit': '0.1 in', 'dim': '1', 'min': np.float32(-960.0), 'max': np.float32(141120.0), 'long_name': None}, 'DEVI': {'unit': 'deg', 'dim': '1', 'min': np.float32(-639.25), 'max': np.float32(1.4099677), 'long_name': 'Hole Deviation'}, 'HAZI': {'unit': 'deg', 'dim': '1', 'min': np.float32(-639.25), 'max': np.float32(132.75981), 'long_name': 'Hole Azimuth'}, 'RB': {'unit': 'deg', 'dim': '1', 'min': np.float32(-639.25), 'max': np.float32(114.913025), 'long_name': 'Relative Bearing'}, 'P1NO': {'unit': 'deg', 'dim': '1', 'min': np.float32(-639.25), 'max': np.float32(243.84966), 'long_name': 'Pad 1 Rotation Relative to North Azimuth'}, 'P1AZ': {'unit': 'deg', 'dim': '1', 'min': np.float32(-639.25), 'max': np.float32(243.84967), 'long_name': 'Pad 1 Azimuth'}, 'GR': {'unit': 'gAPI', 'dim': '1', 'min': np.float32(21.289118), 'max': np.float32(148.92159), 'long_name': 'Gamma Ray'}}}}\n",
      "{'RAB_shallow': {'B77185': {'TDEP': {'unit': 'm', 'values': array([ -3.26136  ,  -3.23088  ,  -3.2003999, ..., 358.47516  ,\n",
      "       358.50565  , 358.5361   ], shape=(11871,), dtype=float32)}}, 'B77226': {'TDEP': {'unit': '0.1 in', 'values': array([ -1260.,  -1200.,  -1140., ..., 141000., 141060., 141120.],\n",
      "      shape=(2374,), dtype=float32)}, 'P1AZ': {'unit': 'deg', 'values': array([-639.25, -639.25, -639.25, ..., -639.25, -639.25, -639.25],\n",
      "      shape=(2374,), dtype=float32)}, 'GR': {'unit': 'gAPI', 'values': array([-999.25, -999.25, -999.25, ..., -999.25, -999.25, -999.25],\n",
      "      shape=(2374,), dtype=float32)}}}, 'RAB_medium': {'B77226': {'GR': {'unit': 'gAPI', 'values': array([-999.25, -999.25, -999.25, ..., -999.25, -999.25, -999.25],\n",
      "      shape=(2374,), dtype=float32)}}}, 'RAB_deep': {'B77226': {'TDEP': {'unit': '0.1 in', 'values': array([ -1260.,  -1200.,  -1140., ..., 141000., 141060., 141120.],\n",
      "      shape=(2374,), dtype=float32)}, 'RB': {'unit': 'deg', 'values': array([-639.25, -639.25, -639.25, ..., -639.25, -639.25, -639.25],\n",
      "      shape=(2374,), dtype=float32)}}}}\n"
     ]
    }
   ],
   "source": [
    "from stoneforge.io.dlisio_r import DLISAccess\n",
    "\n",
    "filepath = r\"C:\\Users\\mario\\Desktop\\br_dlis\\IODP_311-U1325A_rab-proc.dlis\"\n",
    "\n",
    "dlis_manager = DLISAccess(filepath, vis=False)\n",
    "headers = dlis_manager.dlis_dict_headers\n",
    "print(headers)\n",
    "\n",
    "df_headers = dlis_manager._dict_to_dataframe(headers)\n",
    "\n",
    "c = clip_dfheader(df_headers, idx=[0, 8, 3, 9, 19, 23, 26])\n",
    "d = _dataframe_to_dict(c)\n",
    "e = _parse_dlis(filepath, d)\n",
    "csv_save(e, r\"C:\\Users\\mario\\Documents\\test\")\n",
    "print(e)\n",
    "\n",
    "#dlis_manager.csv_save(dlis_manager.dlis_dict_headers, output_dir=\"C:\\\\Users\\\\mario\\\\Documents\\\\test\")"
   ]
  },
  {
   "cell_type": "code",
   "execution_count": 15,
   "id": "efd8db65",
   "metadata": {},
   "outputs": [
    {
     "ename": "IndexError",
     "evalue": "positional indexers are out-of-bounds",
     "output_type": "error",
     "traceback": [
      "\u001b[1;31m---------------------------------------------------------------------------\u001b[0m",
      "\u001b[1;31mIndexError\u001b[0m                                Traceback (most recent call last)",
      "File \u001b[1;32mc:\\Users\\mario\\Documents\\venvs\\stoneforge\\lib\\site-packages\\pandas\\core\\indexing.py:1714\u001b[0m, in \u001b[0;36m_iLocIndexer._get_list_axis\u001b[1;34m(self, key, axis)\u001b[0m\n\u001b[0;32m   1713\u001b[0m \u001b[38;5;28;01mtry\u001b[39;00m:\n\u001b[1;32m-> 1714\u001b[0m     \u001b[38;5;28;01mreturn\u001b[39;00m \u001b[38;5;28;43mself\u001b[39;49m\u001b[38;5;241;43m.\u001b[39;49m\u001b[43mobj\u001b[49m\u001b[38;5;241;43m.\u001b[39;49m\u001b[43m_take_with_is_copy\u001b[49m\u001b[43m(\u001b[49m\u001b[43mkey\u001b[49m\u001b[43m,\u001b[49m\u001b[43m \u001b[49m\u001b[43maxis\u001b[49m\u001b[38;5;241;43m=\u001b[39;49m\u001b[43maxis\u001b[49m\u001b[43m)\u001b[49m\n\u001b[0;32m   1715\u001b[0m \u001b[38;5;28;01mexcept\u001b[39;00m \u001b[38;5;167;01mIndexError\u001b[39;00m \u001b[38;5;28;01mas\u001b[39;00m err:\n\u001b[0;32m   1716\u001b[0m     \u001b[38;5;66;03m# re-raise with different error message, e.g. test_getitem_ndarray_3d\u001b[39;00m\n",
      "File \u001b[1;32mc:\\Users\\mario\\Documents\\venvs\\stoneforge\\lib\\site-packages\\pandas\\core\\generic.py:4172\u001b[0m, in \u001b[0;36mNDFrame._take_with_is_copy\u001b[1;34m(self, indices, axis)\u001b[0m\n\u001b[0;32m   4163\u001b[0m \u001b[38;5;250m\u001b[39m\u001b[38;5;124;03m\"\"\"\u001b[39;00m\n\u001b[0;32m   4164\u001b[0m \u001b[38;5;124;03mInternal version of the `take` method that sets the `_is_copy`\u001b[39;00m\n\u001b[0;32m   4165\u001b[0m \u001b[38;5;124;03mattribute to keep track of the parent dataframe (using in indexing\u001b[39;00m\n\u001b[1;32m   (...)\u001b[0m\n\u001b[0;32m   4170\u001b[0m \u001b[38;5;124;03mSee the docstring of `take` for full explanation of the parameters.\u001b[39;00m\n\u001b[0;32m   4171\u001b[0m \u001b[38;5;124;03m\"\"\"\u001b[39;00m\n\u001b[1;32m-> 4172\u001b[0m result \u001b[38;5;241m=\u001b[39m \u001b[38;5;28;43mself\u001b[39;49m\u001b[38;5;241;43m.\u001b[39;49m\u001b[43mtake\u001b[49m\u001b[43m(\u001b[49m\u001b[43mindices\u001b[49m\u001b[38;5;241;43m=\u001b[39;49m\u001b[43mindices\u001b[49m\u001b[43m,\u001b[49m\u001b[43m \u001b[49m\u001b[43maxis\u001b[49m\u001b[38;5;241;43m=\u001b[39;49m\u001b[43maxis\u001b[49m\u001b[43m)\u001b[49m\n\u001b[0;32m   4173\u001b[0m \u001b[38;5;66;03m# Maybe set copy if we didn't actually change the index.\u001b[39;00m\n",
      "File \u001b[1;32mc:\\Users\\mario\\Documents\\venvs\\stoneforge\\lib\\site-packages\\pandas\\core\\generic.py:4152\u001b[0m, in \u001b[0;36mNDFrame.take\u001b[1;34m(self, indices, axis, **kwargs)\u001b[0m\n\u001b[0;32m   4148\u001b[0m     indices \u001b[38;5;241m=\u001b[39m np\u001b[38;5;241m.\u001b[39marange(\n\u001b[0;32m   4149\u001b[0m         indices\u001b[38;5;241m.\u001b[39mstart, indices\u001b[38;5;241m.\u001b[39mstop, indices\u001b[38;5;241m.\u001b[39mstep, dtype\u001b[38;5;241m=\u001b[39mnp\u001b[38;5;241m.\u001b[39mintp\n\u001b[0;32m   4150\u001b[0m     )\n\u001b[1;32m-> 4152\u001b[0m new_data \u001b[38;5;241m=\u001b[39m \u001b[38;5;28;43mself\u001b[39;49m\u001b[38;5;241;43m.\u001b[39;49m\u001b[43m_mgr\u001b[49m\u001b[38;5;241;43m.\u001b[39;49m\u001b[43mtake\u001b[49m\u001b[43m(\u001b[49m\n\u001b[0;32m   4153\u001b[0m \u001b[43m    \u001b[49m\u001b[43mindices\u001b[49m\u001b[43m,\u001b[49m\n\u001b[0;32m   4154\u001b[0m \u001b[43m    \u001b[49m\u001b[43maxis\u001b[49m\u001b[38;5;241;43m=\u001b[39;49m\u001b[38;5;28;43mself\u001b[39;49m\u001b[38;5;241;43m.\u001b[39;49m\u001b[43m_get_block_manager_axis\u001b[49m\u001b[43m(\u001b[49m\u001b[43maxis\u001b[49m\u001b[43m)\u001b[49m\u001b[43m,\u001b[49m\n\u001b[0;32m   4155\u001b[0m \u001b[43m    \u001b[49m\u001b[43mverify\u001b[49m\u001b[38;5;241;43m=\u001b[39;49m\u001b[38;5;28;43;01mTrue\u001b[39;49;00m\u001b[43m,\u001b[49m\n\u001b[0;32m   4156\u001b[0m \u001b[43m\u001b[49m\u001b[43m)\u001b[49m\n\u001b[0;32m   4157\u001b[0m \u001b[38;5;28;01mreturn\u001b[39;00m \u001b[38;5;28mself\u001b[39m\u001b[38;5;241m.\u001b[39m_constructor_from_mgr(new_data, axes\u001b[38;5;241m=\u001b[39mnew_data\u001b[38;5;241m.\u001b[39maxes)\u001b[38;5;241m.\u001b[39m__finalize__(\n\u001b[0;32m   4158\u001b[0m     \u001b[38;5;28mself\u001b[39m, method\u001b[38;5;241m=\u001b[39m\u001b[38;5;124m\"\u001b[39m\u001b[38;5;124mtake\u001b[39m\u001b[38;5;124m\"\u001b[39m\n\u001b[0;32m   4159\u001b[0m )\n",
      "File \u001b[1;32mc:\\Users\\mario\\Documents\\venvs\\stoneforge\\lib\\site-packages\\pandas\\core\\internals\\managers.py:891\u001b[0m, in \u001b[0;36mBaseBlockManager.take\u001b[1;34m(self, indexer, axis, verify)\u001b[0m\n\u001b[0;32m    890\u001b[0m n \u001b[38;5;241m=\u001b[39m \u001b[38;5;28mself\u001b[39m\u001b[38;5;241m.\u001b[39mshape[axis]\n\u001b[1;32m--> 891\u001b[0m indexer \u001b[38;5;241m=\u001b[39m \u001b[43mmaybe_convert_indices\u001b[49m\u001b[43m(\u001b[49m\u001b[43mindexer\u001b[49m\u001b[43m,\u001b[49m\u001b[43m \u001b[49m\u001b[43mn\u001b[49m\u001b[43m,\u001b[49m\u001b[43m \u001b[49m\u001b[43mverify\u001b[49m\u001b[38;5;241;43m=\u001b[39;49m\u001b[43mverify\u001b[49m\u001b[43m)\u001b[49m\n\u001b[0;32m    893\u001b[0m new_labels \u001b[38;5;241m=\u001b[39m \u001b[38;5;28mself\u001b[39m\u001b[38;5;241m.\u001b[39maxes[axis]\u001b[38;5;241m.\u001b[39mtake(indexer)\n",
      "File \u001b[1;32mc:\\Users\\mario\\Documents\\venvs\\stoneforge\\lib\\site-packages\\pandas\\core\\indexers\\utils.py:282\u001b[0m, in \u001b[0;36mmaybe_convert_indices\u001b[1;34m(indices, n, verify)\u001b[0m\n\u001b[0;32m    281\u001b[0m     \u001b[38;5;28;01mif\u001b[39;00m mask\u001b[38;5;241m.\u001b[39many():\n\u001b[1;32m--> 282\u001b[0m         \u001b[38;5;28;01mraise\u001b[39;00m \u001b[38;5;167;01mIndexError\u001b[39;00m(\u001b[38;5;124m\"\u001b[39m\u001b[38;5;124mindices are out-of-bounds\u001b[39m\u001b[38;5;124m\"\u001b[39m)\n\u001b[0;32m    283\u001b[0m \u001b[38;5;28;01mreturn\u001b[39;00m indices\n",
      "\u001b[1;31mIndexError\u001b[0m: indices are out-of-bounds",
      "\nThe above exception was the direct cause of the following exception:\n",
      "\u001b[1;31mIndexError\u001b[0m                                Traceback (most recent call last)",
      "Cell \u001b[1;32mIn[15], line 5\u001b[0m\n\u001b[0;32m      3\u001b[0m \u001b[38;5;66;03m#dlis_manager = DLISAccess(\"../stoneforge/datasets/DSDP_leg_96_hole_616_96_processed_data.dlis\", vis=False)\u001b[39;00m\n\u001b[0;32m      4\u001b[0m dlis_manager \u001b[38;5;241m=\u001b[39m DLISAccess(\u001b[38;5;124mr\u001b[39m\u001b[38;5;124m\"\u001b[39m\u001b[38;5;124mC:\u001b[39m\u001b[38;5;124m\\\u001b[39m\u001b[38;5;124mUsers\u001b[39m\u001b[38;5;124m\\\u001b[39m\u001b[38;5;124mmario\u001b[39m\u001b[38;5;124m\\\u001b[39m\u001b[38;5;124mDesktop\u001b[39m\u001b[38;5;124m\\\u001b[39m\u001b[38;5;124mbr_dlis\u001b[39m\u001b[38;5;124m\\\u001b[39m\u001b[38;5;124mIODP_311-U1325A_lwd-images-proc.dlis\u001b[39m\u001b[38;5;124m\"\u001b[39m, vis\u001b[38;5;241m=\u001b[39m\u001b[38;5;28;01mFalse\u001b[39;00m)\n\u001b[1;32m----> 5\u001b[0m c \u001b[38;5;241m=\u001b[39m \u001b[43mdlis_manager\u001b[49m\u001b[38;5;241;43m.\u001b[39;49m\u001b[43mget_header\u001b[49m\u001b[43m(\u001b[49m\u001b[43m[\u001b[49m\u001b[38;5;241;43m0\u001b[39;49m\u001b[43m,\u001b[49m\u001b[43m \u001b[49m\u001b[38;5;241;43m8\u001b[39;49m\u001b[43m,\u001b[49m\u001b[43m \u001b[49m\u001b[38;5;241;43m3\u001b[39;49m\u001b[43m,\u001b[49m\u001b[43m \u001b[49m\u001b[38;5;241;43m9\u001b[39;49m\u001b[43m,\u001b[49m\u001b[43m \u001b[49m\u001b[38;5;241;43m19\u001b[39;49m\u001b[43m,\u001b[49m\u001b[43m \u001b[49m\u001b[38;5;241;43m23\u001b[39;49m\u001b[43m,\u001b[49m\u001b[43m \u001b[49m\u001b[38;5;241;43m26\u001b[39;49m\u001b[43m,\u001b[49m\u001b[43m \u001b[49m\u001b[38;5;241;43m31\u001b[39;49m\u001b[43m,\u001b[49m\u001b[43m \u001b[49m\u001b[38;5;241;43m32\u001b[39;49m\u001b[43m,\u001b[49m\u001b[43m \u001b[49m\u001b[38;5;241;43m42\u001b[39;49m\u001b[43m]\u001b[49m\u001b[43m)\u001b[49m\n\u001b[0;32m      6\u001b[0m \u001b[38;5;66;03m#data = dlis_manager.return_data()\u001b[39;00m\n",
      "File \u001b[1;32m~\\Documents\\GitHub\\stoneforge\\stoneforge\\io\\dlisio_r.py:29\u001b[0m, in \u001b[0;36mDLISAccess.get_header\u001b[1;34m(self, idx)\u001b[0m\n\u001b[0;32m     27\u001b[0m \u001b[38;5;28;01mif\u001b[39;00m \u001b[38;5;28mself\u001b[39m\u001b[38;5;241m.\u001b[39mheader_df \u001b[38;5;129;01mis\u001b[39;00m \u001b[38;5;129;01mnot\u001b[39;00m \u001b[38;5;28;01mNone\u001b[39;00m:\n\u001b[0;32m     28\u001b[0m     \u001b[38;5;28;01mif\u001b[39;00m idx \u001b[38;5;129;01mis\u001b[39;00m \u001b[38;5;129;01mnot\u001b[39;00m \u001b[38;5;28;01mNone\u001b[39;00m:\n\u001b[1;32m---> 29\u001b[0m         \u001b[38;5;28mself\u001b[39m\u001b[38;5;241m.\u001b[39mselected_header_df \u001b[38;5;241m=\u001b[39m \u001b[38;5;28;43mself\u001b[39;49m\u001b[38;5;241;43m.\u001b[39;49m\u001b[43mheader_df\u001b[49m\u001b[38;5;241;43m.\u001b[39;49m\u001b[43miloc\u001b[49m\u001b[43m[\u001b[49m\u001b[38;5;28;43msorted\u001b[39;49m\u001b[43m(\u001b[49m\u001b[43midx\u001b[49m\u001b[43m)\u001b[49m\u001b[43m]\u001b[49m\n\u001b[0;32m     30\u001b[0m     \u001b[38;5;28;01melse\u001b[39;00m:\n\u001b[0;32m     31\u001b[0m         \u001b[38;5;28mself\u001b[39m\u001b[38;5;241m.\u001b[39mselected_header_df \u001b[38;5;241m=\u001b[39m \u001b[38;5;28mself\u001b[39m\u001b[38;5;241m.\u001b[39mheader_df\n",
      "File \u001b[1;32mc:\\Users\\mario\\Documents\\venvs\\stoneforge\\lib\\site-packages\\pandas\\core\\indexing.py:1191\u001b[0m, in \u001b[0;36m_LocationIndexer.__getitem__\u001b[1;34m(self, key)\u001b[0m\n\u001b[0;32m   1189\u001b[0m maybe_callable \u001b[38;5;241m=\u001b[39m com\u001b[38;5;241m.\u001b[39mapply_if_callable(key, \u001b[38;5;28mself\u001b[39m\u001b[38;5;241m.\u001b[39mobj)\n\u001b[0;32m   1190\u001b[0m maybe_callable \u001b[38;5;241m=\u001b[39m \u001b[38;5;28mself\u001b[39m\u001b[38;5;241m.\u001b[39m_check_deprecated_callable_usage(key, maybe_callable)\n\u001b[1;32m-> 1191\u001b[0m \u001b[38;5;28;01mreturn\u001b[39;00m \u001b[38;5;28;43mself\u001b[39;49m\u001b[38;5;241;43m.\u001b[39;49m\u001b[43m_getitem_axis\u001b[49m\u001b[43m(\u001b[49m\u001b[43mmaybe_callable\u001b[49m\u001b[43m,\u001b[49m\u001b[43m \u001b[49m\u001b[43maxis\u001b[49m\u001b[38;5;241;43m=\u001b[39;49m\u001b[43maxis\u001b[49m\u001b[43m)\u001b[49m\n",
      "File \u001b[1;32mc:\\Users\\mario\\Documents\\venvs\\stoneforge\\lib\\site-packages\\pandas\\core\\indexing.py:1743\u001b[0m, in \u001b[0;36m_iLocIndexer._getitem_axis\u001b[1;34m(self, key, axis)\u001b[0m\n\u001b[0;32m   1741\u001b[0m \u001b[38;5;66;03m# a list of integers\u001b[39;00m\n\u001b[0;32m   1742\u001b[0m \u001b[38;5;28;01melif\u001b[39;00m is_list_like_indexer(key):\n\u001b[1;32m-> 1743\u001b[0m     \u001b[38;5;28;01mreturn\u001b[39;00m \u001b[38;5;28;43mself\u001b[39;49m\u001b[38;5;241;43m.\u001b[39;49m\u001b[43m_get_list_axis\u001b[49m\u001b[43m(\u001b[49m\u001b[43mkey\u001b[49m\u001b[43m,\u001b[49m\u001b[43m \u001b[49m\u001b[43maxis\u001b[49m\u001b[38;5;241;43m=\u001b[39;49m\u001b[43maxis\u001b[49m\u001b[43m)\u001b[49m\n\u001b[0;32m   1745\u001b[0m \u001b[38;5;66;03m# a single integer\u001b[39;00m\n\u001b[0;32m   1746\u001b[0m \u001b[38;5;28;01melse\u001b[39;00m:\n\u001b[0;32m   1747\u001b[0m     key \u001b[38;5;241m=\u001b[39m item_from_zerodim(key)\n",
      "File \u001b[1;32mc:\\Users\\mario\\Documents\\venvs\\stoneforge\\lib\\site-packages\\pandas\\core\\indexing.py:1717\u001b[0m, in \u001b[0;36m_iLocIndexer._get_list_axis\u001b[1;34m(self, key, axis)\u001b[0m\n\u001b[0;32m   1714\u001b[0m     \u001b[38;5;28;01mreturn\u001b[39;00m \u001b[38;5;28mself\u001b[39m\u001b[38;5;241m.\u001b[39mobj\u001b[38;5;241m.\u001b[39m_take_with_is_copy(key, axis\u001b[38;5;241m=\u001b[39maxis)\n\u001b[0;32m   1715\u001b[0m \u001b[38;5;28;01mexcept\u001b[39;00m \u001b[38;5;167;01mIndexError\u001b[39;00m \u001b[38;5;28;01mas\u001b[39;00m err:\n\u001b[0;32m   1716\u001b[0m     \u001b[38;5;66;03m# re-raise with different error message, e.g. test_getitem_ndarray_3d\u001b[39;00m\n\u001b[1;32m-> 1717\u001b[0m     \u001b[38;5;28;01mraise\u001b[39;00m \u001b[38;5;167;01mIndexError\u001b[39;00m(\u001b[38;5;124m\"\u001b[39m\u001b[38;5;124mpositional indexers are out-of-bounds\u001b[39m\u001b[38;5;124m\"\u001b[39m) \u001b[38;5;28;01mfrom\u001b[39;00m\u001b[38;5;250m \u001b[39m\u001b[38;5;21;01merr\u001b[39;00m\n",
      "\u001b[1;31mIndexError\u001b[0m: positional indexers are out-of-bounds"
     ]
    }
   ],
   "source": [
    "from stoneforge.io.dlisio_r import DLISAccess\n",
    "\n",
    "#dlis_manager = DLISAccess(\"../stoneforge/datasets/DSDP_leg_96_hole_616_96_processed_data.dlis\", vis=False)\n",
    "dlis_manager = DLISAccess(r\"C:\\Users\\mario\\Desktop\\br_dlis\\IODP_311-U1325A_lwd-images-proc.dlis\", vis=False)\n",
    "c = dlis_manager.get_header([0, 8, 3, 9, 19, 23, 26, 31, 32, 42])\n",
    "#data = dlis_manager.return_data()\n"
   ]
  },
  {
   "cell_type": "code",
   "execution_count": 4,
   "id": "2ab21ab8",
   "metadata": {},
   "outputs": [
    {
     "data": {
      "text/plain": [
       "{'FDC/CNL/GR_main': {'B59067': {'TDEP': {'unit': 'm',\n",
       "    'values': array([372.4656   , 372.3132   , 372.1608   , ...,  -4.1146564,\n",
       "            -4.2670565,  -4.4194565], shape=(2474,), dtype=float32)},\n",
       "   'RHOB': {'unit': 'g/cm3',\n",
       "    'values': array([2.0898438, 2.0898438, 2.0898438, ..., 1.1201172, 1.1132812,\n",
       "           1.109375 ], shape=(2474,), dtype=float32)},\n",
       "   'GR': {'unit': 'gAPI',\n",
       "    'values': array([133.25     , 133.25     , 133.25     , ...,   3.765625 ,\n",
       "             3.7519531,   3.7539062], shape=(2474,), dtype=float32)},\n",
       "   'CALI': {'unit': 'in',\n",
       "    'values': array([7.8555613, 7.8555613, 7.8555613, ..., 7.898622 , 7.9232283,\n",
       "           7.898622 ], shape=(2474,), dtype=float32)},\n",
       "   'NPHI': {'unit': '%',\n",
       "    'values': array([ 61.279297,  61.279297,  61.279297, ...,  96.728516, 106.640625,\n",
       "            99.31641 ], shape=(2474,), dtype=float32)}}},\n",
       " 'FDC/CNL/GR_repeat': {'B59180': {'TDEP': {'unit': 'm',\n",
       "    'values': array([264.2616   , 264.1092   , 263.9568   , ...,  -6.5531425,\n",
       "            -6.7055426,  -6.8579426], shape=(1780,), dtype=float32)},\n",
       "   'RHOB': {'unit': 'g/cm3',\n",
       "    'values': array([1.9287109, 1.9287109, 1.9287109, ..., 1.1601562, 1.1777344,\n",
       "           1.1484375], shape=(1780,), dtype=float32)},\n",
       "   'GR': {'unit': 'gAPI',\n",
       "    'values': array([32.53125  , 32.53125  , 32.53125  , ...,  5.3007812,  6.4492188,\n",
       "            7.5976562], shape=(1780,), dtype=float32)},\n",
       "   'CALI': {'unit': 'in',\n",
       "    'values': array([7.867864 , 7.867864 , 7.867864 , ..., 7.898622 , 7.9047737,\n",
       "           7.9109254], shape=(1780,), dtype=float32)},\n",
       "   'NPHI': {'unit': '%',\n",
       "    'values': array([ 56.591797,  56.591797,  56.591797, ..., 101.26953 ,  99.90234 ,\n",
       "            96.58203 ], shape=(1780,), dtype=float32)}}}}"
      ]
     },
     "execution_count": 4,
     "metadata": {},
     "output_type": "execute_result"
    }
   ],
   "source": [
    "data"
   ]
  },
  {
   "cell_type": "code",
   "execution_count": null,
   "id": "1e78b41c",
   "metadata": {},
   "outputs": [],
   "source": [
    "import os\n",
    "import pandas as pd\n",
    "\n",
    "def _sanitize_filename(name: str) -> str:\n",
    "    \"\"\"Replace unsafe filename characters (like / and \\) with underscores.\"\"\"\n",
    "    return name.replace(\"/\", \"_\").replace(\"\\\\\", \"_\")\n",
    "\n",
    "def csv_save(data: dict, output_dir: str = \".\"):\n",
    "    \"\"\"\n",
    "    Save DLIS-like data structure to CSVs, organized by digital file and frame.\n",
    "\n",
    "    Parameters\n",
    "    ----------\n",
    "    data : dict\n",
    "        Nested dictionary structured as {frame_name: {digital_file: {mnemonic: {unit, values}}}}.\n",
    "    output_dir : str\n",
    "        Base directory where the output folders and files will be created.\n",
    "    \"\"\"\n",
    "    for frame_name, digital_files in data.items():\n",
    "        sanitized_frame_name = _sanitize_filename(frame_name)\n",
    "\n",
    "        for digital_file, mnemonics in digital_files.items():\n",
    "            # Create directory for the digital file\n",
    "            digital_file_path = os.path.join(output_dir, digital_file)\n",
    "            os.makedirs(digital_file_path, exist_ok=True)\n",
    "\n",
    "            # Prepare data and units\n",
    "            df_data = {}\n",
    "            units = {}\n",
    "\n",
    "            for mnemonic, content in mnemonics.items():\n",
    "                df_data[mnemonic] = content[\"values\"]\n",
    "                units[mnemonic] = content[\"unit\"]\n",
    "\n",
    "            # Create DataFrame\n",
    "            df = pd.DataFrame(df_data)\n",
    "\n",
    "            # Insert units as second row\n",
    "            units_row = pd.DataFrame([units])\n",
    "            df_with_units = pd.concat([units_row, df], ignore_index=True)\n",
    "\n",
    "            # Save CSV with sanitized frame name\n",
    "            csv_path = os.path.join(digital_file_path, f\"{sanitized_frame_name}.csv\")\n",
    "            df_with_units.to_csv(csv_path, index=False)"
   ]
  },
  {
   "cell_type": "code",
   "execution_count": 5,
   "id": "3b336ffd",
   "metadata": {},
   "outputs": [],
   "source": [
    "dlis_manager.csv_save(data, output_dir=\"C:\\\\Users\\\\mario\\\\Documents\\\\test\")"
   ]
  },
  {
   "cell_type": "code",
   "execution_count": null,
   "id": "1447785b",
   "metadata": {},
   "outputs": [],
   "source": []
  }
 ],
 "metadata": {
  "kernelspec": {
   "display_name": "stoneforge",
   "language": "python",
   "name": "python3"
  },
  "language_info": {
   "codemirror_mode": {
    "name": "ipython",
    "version": 3
   },
   "file_extension": ".py",
   "mimetype": "text/x-python",
   "name": "python",
   "nbconvert_exporter": "python",
   "pygments_lexer": "ipython3",
   "version": "3.10.2"
  }
 },
 "nbformat": 4,
 "nbformat_minor": 5
}
