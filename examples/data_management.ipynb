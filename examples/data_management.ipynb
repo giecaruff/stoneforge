{
 "cells": [
  {
   "cell_type": "code",
   "execution_count": 1,
   "id": "9c06f557",
   "metadata": {},
   "outputs": [
    {
     "name": "stdout",
     "output_type": "stream",
     "text": [
      "VERSION INFORMATION\n",
      "Well Information\n",
      "Log_Parameter\n",
      "Log_Definition\n",
      "Drilling_Definition\n",
      "Drilling_Data | Drilling_Definition\n",
      "Core_Definition\n",
      "Core_Data[1] | Core_Definition\n",
      "Core_Data[2] | Core_Definition\n",
      "Inclinometry_Definition\n",
      "Inclinometry_Data | Inclinometry_Definition\n",
      "Test_Definition\n",
      "Test_Data | Test_Definition\n",
      "TOPS_Definition\n",
      "TOPS_Data | TOPS_Definition\n",
      "Perforations_Definition\n",
      "Perforations_Data | Perforations_Definition\n",
      "Log_Data | Log_Definition\n"
     ]
    }
   ],
   "source": [
    "from stoneforge.io.lasparser import parse_las_file\n",
    "\n",
    "las3_manager = parse_las_file(\"../stoneforge/datasets/example_las3.las\")\n",
    "\n",
    "for key, value in las3_manager.items():\n",
    "    print(key)"
   ]
  },
  {
   "cell_type": "code",
   "execution_count": 2,
   "id": "efd8db65",
   "metadata": {},
   "outputs": [],
   "source": [
    "from stoneforge.io.dlisio_r import DLISAccess\n",
    "\n",
    "dlis_manager = DLISAccess(\"../stoneforge/datasets/DSDP_leg_96_hole_616_96_processed_data.dlis\", vis=False)\n",
    "c = dlis_manager.get_header([0, 8, 3, 9, 19, 23, 26, 31, 32, 42])\n",
    "data = dlis_manager.return_data()\n"
   ]
  },
  {
   "cell_type": "code",
   "execution_count": 3,
   "id": "2ab21ab8",
   "metadata": {},
   "outputs": [
    {
     "data": {
      "text/plain": [
       "{'FDC/CNL/GR_main': {'B59067': {'TDEP': {'unit': 'm',\n",
       "    'values': array([372.4656   , 372.3132   , 372.1608   , ...,  -4.1146564,\n",
       "            -4.2670565,  -4.4194565], shape=(2474,), dtype=float32)},\n",
       "   'RHOB': {'unit': 'g/cm3',\n",
       "    'values': array([2.0898438, 2.0898438, 2.0898438, ..., 1.1201172, 1.1132812,\n",
       "           1.109375 ], shape=(2474,), dtype=float32)},\n",
       "   'GR': {'unit': 'gAPI',\n",
       "    'values': array([133.25     , 133.25     , 133.25     , ...,   3.765625 ,\n",
       "             3.7519531,   3.7539062], shape=(2474,), dtype=float32)},\n",
       "   'CALI': {'unit': 'in',\n",
       "    'values': array([7.8555613, 7.8555613, 7.8555613, ..., 7.898622 , 7.9232283,\n",
       "           7.898622 ], shape=(2474,), dtype=float32)},\n",
       "   'NPHI': {'unit': '%',\n",
       "    'values': array([ 61.279297,  61.279297,  61.279297, ...,  96.728516, 106.640625,\n",
       "            99.31641 ], shape=(2474,), dtype=float32)}}},\n",
       " 'FDC/CNL/GR_repeat': {'B59180': {'TDEP': {'unit': 'm',\n",
       "    'values': array([264.2616   , 264.1092   , 263.9568   , ...,  -6.5531425,\n",
       "            -6.7055426,  -6.8579426], shape=(1780,), dtype=float32)},\n",
       "   'RHOB': {'unit': 'g/cm3',\n",
       "    'values': array([1.9287109, 1.9287109, 1.9287109, ..., 1.1601562, 1.1777344,\n",
       "           1.1484375], shape=(1780,), dtype=float32)},\n",
       "   'GR': {'unit': 'gAPI',\n",
       "    'values': array([32.53125  , 32.53125  , 32.53125  , ...,  5.3007812,  6.4492188,\n",
       "            7.5976562], shape=(1780,), dtype=float32)},\n",
       "   'CALI': {'unit': 'in',\n",
       "    'values': array([7.867864 , 7.867864 , 7.867864 , ..., 7.898622 , 7.9047737,\n",
       "           7.9109254], shape=(1780,), dtype=float32)},\n",
       "   'NPHI': {'unit': '%',\n",
       "    'values': array([ 56.591797,  56.591797,  56.591797, ..., 101.26953 ,  99.90234 ,\n",
       "            96.58203 ], shape=(1780,), dtype=float32)}}}}"
      ]
     },
     "execution_count": 3,
     "metadata": {},
     "output_type": "execute_result"
    }
   ],
   "source": [
    "data"
   ]
  },
  {
   "cell_type": "code",
   "execution_count": null,
   "id": "3b336ffd",
   "metadata": {},
   "outputs": [],
   "source": []
  }
 ],
 "metadata": {
  "kernelspec": {
   "display_name": "stoneforge",
   "language": "python",
   "name": "python3"
  },
  "language_info": {
   "codemirror_mode": {
    "name": "ipython",
    "version": 3
   },
   "file_extension": ".py",
   "mimetype": "text/x-python",
   "name": "python",
   "nbconvert_exporter": "python",
   "pygments_lexer": "ipython3",
   "version": "3.10.2"
  }
 },
 "nbformat": 4,
 "nbformat_minor": 5
}
