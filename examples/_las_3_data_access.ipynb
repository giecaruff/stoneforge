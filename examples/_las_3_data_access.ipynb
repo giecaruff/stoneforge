{
 "cells": [
  {
   "cell_type": "code",
   "execution_count": 1,
   "id": "e3533d5d",
   "metadata": {},
   "outputs": [
    {
     "data": {
      "text/plain": [
       "['VERSION INFORMATION',\n",
       " 'Well Information',\n",
       " 'Log_Parameter',\n",
       " 'Log_Definition',\n",
       " 'Drilling_Definition',\n",
       " 'Drilling_Data | Drilling_Definition',\n",
       " 'Core_Definition',\n",
       " 'Core_Data[1] | Core_Definition',\n",
       " 'Core_Data[2] | Core_Definition',\n",
       " 'Inclinometry_Definition',\n",
       " 'Inclinometry_Data | Inclinometry_Definition',\n",
       " 'Test_Definition',\n",
       " 'Test_Data | Test_Definition',\n",
       " 'TOPS_Definition',\n",
       " 'TOPS_Data | TOPS_Definition',\n",
       " 'Perforations_Definition',\n",
       " 'Perforations_Data | Perforations_Definition',\n",
       " 'Log_Data | Log_Definition']"
      ]
     },
     "execution_count": 1,
     "metadata": {},
     "output_type": "execute_result"
    }
   ],
   "source": [
    "from stoneforge.io.las3 import LAS3Parser\n",
    "import pandas as pd\n",
    "\n",
    "las3_obj = LAS3Parser(r\"../stoneforge/datasets/example_las3.las\")\n",
    "las3_obj.tables"
   ]
  },
  {
   "cell_type": "code",
   "execution_count": 2,
   "id": "03c83efd",
   "metadata": {},
   "outputs": [
    {
     "name": "stderr",
     "output_type": "stream",
     "text": [
      "C:\\Users\\mario\\Documents\\GitHub\\stoneforge\\stoneforge\\io\\las3.py:88: UserWarning: DataFrame columns are not unique, some columns will be omitted.\n",
      "  main_data = main_data.to_dict(orient=\"list\")\n"
     ]
    }
   ],
   "source": [
    "las3_obj.force_association()"
   ]
  },
  {
   "cell_type": "code",
   "execution_count": 3,
   "id": "8b0a5dcf",
   "metadata": {},
   "outputs": [
    {
     "data": {
      "text/plain": [
       "['VERSION INFORMATION',\n",
       " 'Well Information',\n",
       " 'Log_Parameter',\n",
       " 'Core_Definition',\n",
       " 'Core_Data[1] | Core_Definition',\n",
       " 'Core_Data[2] | Core_Definition',\n",
       " 'Log_Data',\n",
       " 'Drilling_Data',\n",
       " 'Inclinometry_Data',\n",
       " 'Test_Data',\n",
       " 'TOPS_Data',\n",
       " 'Perforations_Data']"
      ]
     },
     "execution_count": 3,
     "metadata": {},
     "output_type": "execute_result"
    }
   ],
   "source": [
    "las3_obj.tables"
   ]
  },
  {
   "cell_type": "code",
   "execution_count": 4,
   "id": "e883f393",
   "metadata": {},
   "outputs": [
    {
     "data": {
      "text/plain": [
       "{'DEPT': {'values': array([1670.   , 1669.875, 1669.75 ]), 'unit': '.M'},\n",
       " 'DT': {'values': array([123.45, 123.45, 123.45]), 'unit': '.US/M'},\n",
       " 'RHOB': {'values': array([2550., 2550., 2550.]), 'unit': '.K/M3'},\n",
       " 'NPHI': {'values': array([0.45, 0.45, 0.45]), 'unit': '.V/V'},\n",
       " 'SFLU': {'values': array([123.45, 123.45, 123.45]), 'unit': '.OHMM'},\n",
       " 'SFLA': {'values': array([123.45, 123.45, 123.45]), 'unit': '.OHMM'},\n",
       " 'ILM': {'values': array([110.2, 110.2, 110.2]), 'unit': '.OHMM'},\n",
       " 'ILD': {'values': array([105.6, 105.6, 105.6]), 'unit': '.OHMM'},\n",
       " 'YME': {'values': array([1.45e+12, 1.47e+12, 2.85e+12]), 'unit': '.PA'},\n",
       " 'CDES': {'values': array(['DOLOMITE WI/VUGS', 'LIMESTOVE       ', 'LOST INTERVAL   '],\n",
       "        dtype='<U16'),\n",
       "  'unit': '.'},\n",
       " 'NMR[1]': {'values': array([10., 12., 18.]), 'unit': '.ms'},\n",
       " 'NMR[2]': {'values': array([12., 15., 25.]), 'unit': '.ms'},\n",
       " 'NMR[3]': {'values': array([14., 21., 10.]), 'unit': '.ms'},\n",
       " 'NMR[4]': {'values': array([18., 35.,  8.]), 'unit': '.ms'},\n",
       " 'NMR[5]': {'values': array([13., 25., 17.]), 'unit': '.ms'}}"
      ]
     },
     "execution_count": 4,
     "metadata": {},
     "output_type": "execute_result"
    }
   ],
   "source": [
    "las3_obj.data['Log_Data']"
   ]
  },
  {
   "cell_type": "code",
   "execution_count": null,
   "id": "9a46109a",
   "metadata": {},
   "outputs": [],
   "source": []
  }
 ],
 "metadata": {
  "kernelspec": {
   "display_name": "stoneforge",
   "language": "python",
   "name": "python3"
  },
  "language_info": {
   "codemirror_mode": {
    "name": "ipython",
    "version": 3
   },
   "file_extension": ".py",
   "mimetype": "text/x-python",
   "name": "python",
   "nbconvert_exporter": "python",
   "pygments_lexer": "ipython3",
   "version": "3.10.0"
  }
 },
 "nbformat": 4,
 "nbformat_minor": 5
}
