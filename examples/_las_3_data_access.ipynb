{
 "cells": [
  {
   "cell_type": "code",
   "execution_count": 1,
   "id": "e3533d5d",
   "metadata": {},
   "outputs": [
    {
     "data": {
      "text/plain": [
       "['VERSION INFORMATION',\n",
       " 'Well Information',\n",
       " 'Log_Parameter',\n",
       " 'Log_Definition',\n",
       " 'Drilling_Definition',\n",
       " 'Drilling_Data | Drilling_Definition',\n",
       " 'Core_Definition',\n",
       " 'Core_Data[1] | Core_Definition',\n",
       " 'Core_Data[2] | Core_Definition',\n",
       " 'Inclinometry_Definition',\n",
       " 'Inclinometry_Data | Inclinometry_Definition',\n",
       " 'Test_Definition',\n",
       " 'Test_Data | Test_Definition',\n",
       " 'TOPS_Definition',\n",
       " 'TOPS_Data | TOPS_Definition',\n",
       " 'Perforations_Definition',\n",
       " 'Perforations_Data | Perforations_Definition',\n",
       " 'Log_Data | Log_Definition']"
      ]
     },
     "execution_count": 1,
     "metadata": {},
     "output_type": "execute_result"
    }
   ],
   "source": [
    "from stoneforge.io.lasparser import LAS3Parser\n",
    "import pandas as pd\n",
    "\n",
    "las3_obj = LAS3Parser(r\"../stoneforge/datasets/example_las3.las\")\n",
    "las3_obj.tables"
   ]
  },
  {
   "cell_type": "code",
   "execution_count": 2,
   "id": "03c83efd",
   "metadata": {},
   "outputs": [
    {
     "name": "stderr",
     "output_type": "stream",
     "text": [
      "C:\\Users\\mario\\Documents\\GitHub\\stoneforge\\stoneforge\\io\\lasparser.py:88: UserWarning: DataFrame columns are not unique, some columns will be omitted.\n",
      "  main_data = main_data.to_dict(orient=\"list\")\n"
     ]
    }
   ],
   "source": [
    "las3_obj.force_association()"
   ]
  },
  {
   "cell_type": "code",
   "execution_count": 3,
   "id": "8b0a5dcf",
   "metadata": {},
   "outputs": [
    {
     "data": {
      "text/plain": [
       "dict_keys(['VERSION INFORMATION', 'Well Information', 'Log_Parameter', 'Core_Definition', 'Core_Data[1] | Core_Definition', 'Core_Data[2] | Core_Definition', 'Log_Data', 'Drilling_Data', 'Inclinometry_Data', 'Test_Data', 'TOPS_Data', 'Perforations_Data'])"
      ]
     },
     "execution_count": 3,
     "metadata": {},
     "output_type": "execute_result"
    }
   ],
   "source": [
    "las3_obj.tables"
   ]
  }
 ],
 "metadata": {
  "kernelspec": {
   "display_name": "stoneforge",
   "language": "python",
   "name": "python3"
  },
  "language_info": {
   "codemirror_mode": {
    "name": "ipython",
    "version": 3
   },
   "file_extension": ".py",
   "mimetype": "text/x-python",
   "name": "python",
   "nbconvert_exporter": "python",
   "pygments_lexer": "ipython3",
   "version": "3.10.0"
  }
 },
 "nbformat": 4,
 "nbformat_minor": 5
}
