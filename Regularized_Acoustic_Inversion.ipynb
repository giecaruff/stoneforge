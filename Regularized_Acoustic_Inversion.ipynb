{
 "cells": [
  {
   "cell_type": "code",
   "execution_count": null,
   "id": "b49e19db",
   "metadata": {},
   "outputs": [],
   "source": [
    "#Funcoes que implementam o algoritmo de regularizacao, de Tikhonov de ordem zero e Variacao total.                                                     %\n",
    "#Autor: Joao Pedro Reis                                                                                                                            \n",
    "#Data: 29/06/2023                                                                                 "
   ]
  },
  {
   "cell_type": "code",
   "execution_count": 1,
   "id": "2a35f1a4",
   "metadata": {},
   "outputs": [],
   "source": [
    "import numpy as np \n",
    "import matplotlib.pyplot as plt\n",
    "from scipy.linalg import toeplitz"
   ]
  },
  {
   "cell_type": "code",
   "execution_count": 2,
   "id": "f543fcdc",
   "metadata": {},
   "outputs": [],
   "source": [
    "def IRLS_Inv(trace, G, alphaL1, alphaL2,thresold,niter):\n",
    "    dim = len(trace)\n",
    "    R = np.eye(dim)\n",
    "    I = np.eye(dim)\n",
    "    G_T = G.transpose()\n",
    "    count = 0 \n",
    "    #Tikhonov ordem zero:\n",
    "    M1_L2 = np.linalg.inv(np.matmul(G_T,G)+ (alphaL2*I))\n",
    "    M2_L2 = np.matmul(G_T,trace)\n",
    "    RegL2 = np.matmul(M1_L2,M2_L2)\n",
    "    \n",
    "    #Inversao do traco sismico utilizando regularizacao de tikhonov a partir da norma1 nos residuos dos dados\n",
    "    while (count < niter):\n",
    "            Gt_R = np.matmul(G_T,R)\n",
    "            M1_L1 = np.linalg.inv(np.matmul(Gt_R,G)+(alphaL1*I))\n",
    "            M2_L1 = np.matmul(Gt_R,trace)\n",
    "            RegL1 = np.matmul(M1_L1, M2_L1)\n",
    "            dcalc = np.matmul(G,RegL1)\n",
    "            residuo = dcalc[:]-trace[:]\n",
    "            for i in range((dim//2)+2):\n",
    "                if abs(residuo[i]) >= thresold:\n",
    "                    R[i,i]= 1/abs(residuo[i])\n",
    "                else:\n",
    "                    R[i,i]=1/thresold\n",
    "            for i in range(dim):\n",
    "                if abs(RegL1[i]) >= thresold:\n",
    "                    I[i,i]= 1/abs(RegL1[i])\n",
    "                else:\n",
    "                    I[i,i]=1/thresold\n",
    "            count = count + 1\n",
    "    return RegL2, RegL1    \n",
    "\n",
    "def Ricker_Wavelet(Peak_freq, Samples, Dt):\n",
    "    t = np.arange(Samples)*(Dt/1000)\n",
    "    t = np.concatenate((np.flipud(-t[1:]), t), axis=0)\n",
    "    ricker = (1. -2.*(np.pi**2)*(Peak_freq**2)*(t**2))*np.exp(-(np.pi**2)*(Peak_freq**2)*(t**2))\n",
    "    return t, ricker"
   ]
  },
  {
   "cell_type": "code",
   "execution_count": 3,
   "id": "7778bd6e",
   "metadata": {},
   "outputs": [],
   "source": [
    "t, ricker = Ricker_Wavelet(30,101,4)\n",
    "\n",
    "Refl = np.zeros(521)\n",
    "Refl[100]=0.2\n",
    "Refl[230]=-0.15\n",
    "Refl[340]=0.05\n",
    "Refl[270]=-0.08\n",
    "Refl[145]=0.1\n",
    "\n",
    "n = len(Refl)\n",
    "m = len(ricker)"
   ]
  },
  {
   "cell_type": "code",
   "execution_count": 5,
   "id": "cee0a124",
   "metadata": {},
   "outputs": [],
   "source": [
    "Refl_T = Refl.reshape(n,1)\n",
    "ricker_padded = np.append(ricker,np.zeros((1,2*n-m)))"
   ]
  },
  {
   "cell_type": "code",
   "execution_count": 16,
   "id": "f806d069",
   "metadata": {},
   "outputs": [],
   "source": [
    "G = toeplitz(400*ricker_padded, np.zeros((1,n)))\n",
    "G = G[m//2+1:n+(m//2)+1,:]"
   ]
  },
  {
   "cell_type": "code",
   "execution_count": 19,
   "id": "c171f722",
   "metadata": {},
   "outputs": [],
   "source": [
    "trace = np.matmul(G, Refl_T)"
   ]
  },
  {
   "cell_type": "code",
   "execution_count": 20,
   "id": "9e9f4e52",
   "metadata": {},
   "outputs": [
    {
     "data": {
      "text/plain": [
       "[<matplotlib.lines.Line2D at 0x7f0efe29c7f0>]"
      ]
     },
     "execution_count": 20,
     "metadata": {},
     "output_type": "execute_result"
    },
    {
     "data": {
      "image/png": "[encoded data removed]",
      "text/plain": [
       "<Figure size 432x288 with 1 Axes>"
      ]
     },
     "metadata": {
      "needs_background": "light"
     },
     "output_type": "display_data"
    }
   ],
   "source": [
    "plt.plot(trace)"
   ]
  },
  {
   "cell_type": "code",
   "execution_count": 33,
   "id": "ed72b45e",
   "metadata": {},
   "outputs": [],
   "source": [
    "alphaL1=10\n",
    "alphaL2=100\n",
    "thresold = 0.0001\n",
    "niter = 10"
   ]
  },
  {
   "cell_type": "code",
   "execution_count": 34,
   "id": "5de40b92",
   "metadata": {},
   "outputs": [],
   "source": [
    "RegL2, RegL1 = IRLS_Inv(trace, G, alphaL1, alphaL2,thresold,niter)\n",
    "\n",
    "RegL1n=RegL1[:]/max(abs(RegL1[:]))*max(abs(Refl[:]));\n",
    "RegL2n=RegL2[:]/max(abs(RegL2[:]))*max(abs(Refl[:]));"
   ]
  },
  {
   "cell_type": "code",
   "execution_count": 40,
   "id": "1d2fda76",
   "metadata": {
    "scrolled": true
   },
   "outputs": [
    {
     "data": {
      "text/plain": [
       "[<matplotlib.lines.Line2D at 0x7f0efd9f4dc0>]"
      ]
     },
     "execution_count": 40,
     "metadata": {},
     "output_type": "execute_result"
    },
    {
     "data": {
      "image/png": "[encoded data removed]",
      "text/plain": [
       "<Figure size 432x288 with 1 Axes>"
      ]
     },
     "metadata": {
      "needs_background": "light"
     },
     "output_type": "display_data"
    }
   ],
   "source": [
    "plt.plot(RegL2n)"
   ]
  },
  {
   "cell_type": "code",
   "execution_count": 38,
   "id": "6225e25e",
   "metadata": {},
   "outputs": [
    {
     "data": {
      "text/plain": [
       "[<matplotlib.lines.Line2D at 0x7f0efdab0970>]"
      ]
     },
     "execution_count": 38,
     "metadata": {},
     "output_type": "execute_result"
    },
    {
     "data": {
      "image/png": "[encoded data removed]",
      "text/plain": [
       "<Figure size 432x288 with 1 Axes>"
      ]
     },
     "metadata": {
      "needs_background": "light"
     },
     "output_type": "display_data"
    }
   ],
   "source": [
    "plt.plot(RegL1n)"
   ]
  }
 ],
 "metadata": {
  "kernelspec": {
   "display_name": "Python 3 (ipykernel)",
   "language": "python",
   "name": "python3"
  },
  "language_info": {
   "codemirror_mode": {
    "name": "ipython",
    "version": 3
   },
   "file_extension": ".py",
   "mimetype": "text/x-python",
   "name": "python",
   "nbconvert_exporter": "python",
   "pygments_lexer": "ipython3",
   "version": "3.9.12"
  }
 },
 "nbformat": 4,
 "nbformat_minor": 5
}
