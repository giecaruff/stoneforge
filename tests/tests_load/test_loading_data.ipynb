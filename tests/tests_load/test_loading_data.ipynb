{
 "cells": [
  {
   "cell_type": "code",
   "execution_count": 2,
   "metadata": {},
   "outputs": [],
   "source": [
    "from stoneforge.preprocessing import las_import"
   ]
  },
  {
   "cell_type": "code",
   "execution_count": 4,
   "metadata": {},
   "outputs": [],
   "source": [
    "data_22,units_22 = las_import(r\"C:\\Users\\mario\\Documents\\appy_projetos\\dados\\7-MP-22-BA.las\")\n",
    "data_22 = data_22[['DEPTH','GR','RHOB','NPHI','DT','Lith_new']].dropna()"
   ]
  },
  {
   "cell_type": "code",
   "execution_count": 8,
   "metadata": {},
   "outputs": [],
   "source": [
    "from stoneforge.io.las2 import read\n",
    "\n",
    "data_22 = read(r\"C:\\Users\\mario\\Documents\\appy_projetos\\dados\\7-MP-22-BA.las\")"
   ]
  },
  {
   "cell_type": "code",
   "execution_count": 15,
   "metadata": {},
   "outputs": [
    {
     "name": "stdout",
     "output_type": "stream",
     "text": [
      "{'mnemonic': 'VERS', 'unit': '', 'value': '2.0', 'description': 'CWLS LOG ASCII STANDARD - VERSION 2.0'}\n",
      "{'mnemonic': 'WRAP', 'unit': '', 'value': 'NO', 'description': 'SINGLE LINE PER DEPTH STEP'}\n",
      "{'mnemonic': 'CREA', 'unit': '', 'value': '06/02/2020 16:06', 'description': '00'}\n"
     ]
    }
   ],
   "source": [
    "for i in data_22['version']:\n",
    "    print(i)"
   ]
  },
  {
   "cell_type": "code",
   "execution_count": 16,
   "metadata": {},
   "outputs": [
    {
     "name": "stdout",
     "output_type": "stream",
     "text": [
      "{'mnemonic': 'STRT', 'unit': 'M', 'value': '9.9250', 'description': 'START DEPTH'}\n",
      "{'mnemonic': 'STOP', 'unit': 'M', 'value': '3087.0250', 'description': 'STOP DEPTH'}\n",
      "{'mnemonic': 'STEP', 'unit': 'M', 'value': '0.1000', 'description': 'STEP VALUE'}\n",
      "{'mnemonic': 'NULL', 'unit': '', 'value': '-999.0000', 'description': 'NULL VALUE'}\n",
      "{'mnemonic': 'DATE', 'unit': '', 'value': '06/02/2020', 'description': 'LAS file Creation Date'}\n",
      "{'mnemonic': 'WELL', 'unit': '', 'value': '7-MP-22-BA', 'description': 'Well Name'}\n",
      "{'mnemonic': 'COMP', 'unit': '', 'value': 'PETROBRAS', 'description': 'Company'}\n",
      "{'mnemonic': 'FLD', 'unit': '', 'value': 'MASSAPE', 'description': 'Field'}\n",
      "{'mnemonic': 'STATE', 'unit': '', 'value': 'BAHIA', 'description': 'State'}\n",
      "{'mnemonic': 'API', 'unit': '', 'value': '20240020649', 'description': 'API Number'}\n",
      "{'mnemonic': 'UWI', 'unit': '', 'value': '', 'description': 'Unique Well Identifier (UWI)'}\n",
      "{'mnemonic': 'LOC', 'unit': '', 'value': 'SAD-69, MC=39G', 'description': 'Location'}\n",
      "{'mnemonic': 'PDAT', 'unit': '', 'value': 'NM', 'description': 'Permanent Datum'}\n",
      "{'mnemonic': 'EPDAT', 'unit': '', 'value': '0', 'description': 'Elevation of Permanent Datum'}\n",
      "{'mnemonic': 'LGMEA', 'unit': '', 'value': 'MR', 'description': 'Log Measured from'}\n",
      "{'mnemonic': 'DRMEA', 'unit': '', 'value': 'MR', 'description': 'Drill Measured From'}\n",
      "{'mnemonic': 'APDAT', 'unit': '', 'value': '66.39', 'description': 'Elevation Above Permanent Datum'}\n",
      "{'mnemonic': 'KB', 'unit': '', 'value': '66.69', 'description': 'KB Elevation'}\n",
      "{'mnemonic': 'DF', 'unit': '', 'value': '66.39', 'description': 'DF Elevation'}\n",
      "{'mnemonic': 'GL', 'unit': '', 'value': '56.99', 'description': 'GL Elevation'}\n",
      "{'mnemonic': 'RWS', 'unit': '', 'value': '-999', 'description': 'Def_Rw'}\n",
      "{'mnemonic': 'WST', 'unit': '', 'value': '-999', 'description': 'Def_Rwt'}\n",
      "{'mnemonic': 'PROV', 'unit': '', 'value': '', 'description': 'Province'}\n",
      "{'mnemonic': 'SRVC', 'unit': '', 'value': '', 'description': 'Contractor'}\n",
      "{'mnemonic': 'GDAT', 'unit': '', 'value': 'WGS 84', 'description': 'Geodatum'}\n",
      "{'mnemonic': 'LONG', 'unit': '', 'value': '-38.4321144443088', 'description': 'Longitude'}\n",
      "{'mnemonic': 'LATI', 'unit': '', 'value': '0', 'description': 'Latitude'}\n",
      "{'mnemonic': 'COORDIN', 'unit': '', 'value': '', 'description': 'Grid System'}\n",
      "{'mnemonic': 'XCOORD', 'unit': '', 'value': '', 'description': 'X or East-West Coordinate'}\n",
      "{'mnemonic': 'YCOORD', 'unit': '', 'value': '', 'description': 'Y or North-South Coordinate'}\n"
     ]
    }
   ],
   "source": [
    "for i in data_22['well']:\n",
    "    print(i)"
   ]
  },
  {
   "cell_type": "code",
   "execution_count": 17,
   "metadata": {},
   "outputs": [
    {
     "name": "stdout",
     "output_type": "stream",
     "text": [
      "{'mnemonic': 'DEPTH', 'unit': 'M', 'value': '', 'description': 'Depth'}\n",
      "{'mnemonic': 'BS', 'unit': 'in', 'value': '', 'description': 'BitSize'}\n",
      "{'mnemonic': 'CALI', 'unit': 'in', 'value': '', 'description': 'Caliper'}\n",
      "{'mnemonic': 'GR', 'unit': 'gAPI', 'value': '', 'description': 'GammaRay'}\n",
      "{'mnemonic': 'HDRS', 'unit': 'ohm.m', 'value': '', 'description': 'DeepRes'}\n",
      "{'mnemonic': 'RHOB', 'unit': 'g/cm3', 'value': ': Density     Loaded from DLIS', 'description': '7-mp-22-ba_raw-3.dlis'}\n",
      "{'mnemonic': 'NPHI', 'unit': 'mÂ³/mÂ³', 'value': ': Neutron     Loaded from DLIS', 'description': '7-mp-22-ba_raw-3.dlis'}\n",
      "{'mnemonic': 'DT', 'unit': 'uS/ft', 'value': '', 'description': 'Sonic'}\n",
      "{'mnemonic': 'DRDN', 'unit': '', 'value': '', 'description': ''}\n",
      "{'mnemonic': 'Lith_new', 'unit': '', 'value': '', 'description': ''}\n"
     ]
    }
   ],
   "source": [
    "for i in data_22['curve']:\n",
    "    print(i)"
   ]
  },
  {
   "cell_type": "code",
   "execution_count": 18,
   "metadata": {},
   "outputs": [
    {
     "name": "stdout",
     "output_type": "stream",
     "text": [
      "[   9.925   10.025   10.125 ... 3086.825 3086.925 3087.025]\n",
      "[nan nan nan ... nan nan nan]\n",
      "[nan nan nan ... nan nan nan]\n",
      "[nan nan nan ... nan nan nan]\n",
      "[nan nan nan ... nan nan nan]\n",
      "[   nan    nan    nan ... 2.5585 2.5585 2.5585]\n",
      "[   nan    nan    nan ... 0.0711 0.0711 0.0711]\n",
      "[nan nan nan ... nan nan nan]\n",
      "[    nan     nan     nan ... -1.4591 -1.4591 -1.4591]\n",
      "[nan nan nan ... 49. 49. 49.]\n"
     ]
    }
   ],
   "source": [
    "for i in data_22['data']:\n",
    "    print(i)"
   ]
  },
  {
   "cell_type": "code",
   "execution_count": null,
   "metadata": {},
   "outputs": [],
   "source": []
  }
 ],
 "metadata": {
  "kernelspec": {
   "display_name": "stoneforge",
   "language": "python",
   "name": "python3"
  },
  "language_info": {
   "codemirror_mode": {
    "name": "ipython",
    "version": 3
   },
   "file_extension": ".py",
   "mimetype": "text/x-python",
   "name": "python",
   "nbconvert_exporter": "python",
   "pygments_lexer": "ipython3",
   "version": "3.10.2"
  }
 },
 "nbformat": 4,
 "nbformat_minor": 2
}
